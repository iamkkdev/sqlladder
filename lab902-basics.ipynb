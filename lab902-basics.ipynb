{
 "cells": [
  {
   "cell_type": "markdown",
   "id": "e72e948b",
   "metadata": {},
   "source": [
    "# The Basics\n",
    "\n",
    "## Simple SELECTs\n",
    "1) Query all the data in the `pets` table.\n",
    "2) Query only the first 5 rows of the `pets` table.\n",
    "3) Query only the names and ages of the pets in the `pets` table.\n",
    "4) Query the pets in the `pets` table, sorted youngest to oldest.\n",
    "5) Query the pets in the `pets` table alphabetically.\n",
    "6) Query all the male pets in the `pets` table.\n",
    "7) Query all the cats in the `pets` table.\n",
    "8) Query all the pets in the `pets` table that are at least 5 years old.\n",
    "9) Query all the male dogs in the `pets` table. Do not include the sex or species column, since you already know them.\n",
    "10) Get all the names of the dogs in the `pets` table that are younger than 5 years old.\n",
    "11) Query all the pets in the `pets` table that are either male dogs or female cats.\n",
    "12) Query the five oldest pets in the `pets` table.\n",
    "13) Get the names and ages of all the female cats in the `pets` table sorted by age, descending.\n",
    "14) Get all pets from `pets` whose names start with P.\n",
    "15) Select all employees from `employees_null` where the salary is missing.\n",
    "16) Select all employees from `employees_null` where the salary is below $35,000 or missing.\n",
    "17) Select all employees from `employees_null` where the job title is missing. What do you see?\n",
    "18) Who is the newest employee in `employees`? The most senior?\n",
    "19) Select all employees from `employees` named Thomas.\n",
    "20) Select all employees from `employees` named Thomas or Shannon.\n",
    "21) Select all employees from `employees` named Robert, Lisa, or any name that begins with a J. In addition, only show employees who are _not_ in sales. This will be a little bit of a longer query.\n",
    "    * _Hint:_ There will only be 6 rows in the result."
   ]
  },
  {
   "cell_type": "markdown",
   "id": "cf33badc",
   "metadata": {},
   "source": [
    "## Column Operations\n",
    "22) Query the top 5 rows of the `employees` table to get a glimpse of these new data.\n",
    "23) Query the `employees` table, but convert their salaries to Euros. \n",
    "    * _Hint:_ 1 Euro = 1.1 USD.\n",
    "    * _Hint2:_ If you think the output is ugly, try out the `ROUND()` function.\n",
    "24) Repeat the previous problem, but rename the column `salary_eu`.\n",
    "25) Query the `employees` table, but combine the `firstname` and `lastname` columns to be \"Firstname, Lastname\" format. Call this column `fullname`. For example, the first row should contain `Thompson, Christine` as `fullname`. Also, display the rounded `salary_eu` instead of `salary`.\n",
    "    * _Hint:_ The string concatenation operator is `||`\n",
    "26) Query the `employees` table, but replace `startdate` with `startyear` using the `SUBSTR()` function. Also include `fullname` and `salary_eu`.\n",
    "27) Repeat the above problem, but instead of using `SUBSTR()`, use `STRFTIME()`.\n",
    "28) Query the `employees` table, replacing `firstname`/`lastname` with `fullname` and `startdate` with `startyear`. Print out the salary in USD again, except format it with a dollar sign, comma separators, and no decimal. For example, the first row should read `$123,696`. This column should still be named `salary`.\n",
    "    * _Hint:_ Check out SQLite's `printf` function.\n",
    "    * _Hint2:_ The format string you'll need is `$%,.2d`. You should read more about such formatting strings as they're useful in Python, too!\n",
    "\n",
    "**Note:** For the next few problems, you'll probably want to use `CASE`/`WHEN` statements.\n",
    "\n",
    "29) Last year, only salespeople were eligible for bonuses. Create a column `bonus` that is \"Yes\" if you're eligible for a bonus, otherwise \"No\".\n",
    "30) This year, only sales people with a salary of $100,000 or higher are eligible for bonuses. Create a `bonus` column like in the last problem for salespeople with salaries at least $100,000.\n",
    "31) Next year, the bonus structure will be a little more complicated. You'll create a `target_comp` column which represents an employee's target total compensation after their bonus. Here is the company's bonus structure:\n",
    "\n",
    "* Salespeople who make more than $100,000 will be eligible for a 10% bonus.\n",
    "* Salespeople who make less than $100,000 will be eligible for a 5% bonus.\n",
    "* Administrators will also be eligible for a 5% bonus.\n",
    "* Anyone who does not meet any of the above descriptions is not eligible for a bonus.\n",
    "\n",
    "Create this `target_comp` column, making sure to format _both_ the `salary` and `target_comp` columns nicely (ie, with dollar signs and comma separators)"
   ]
  },
  {
   "cell_type": "code",
   "execution_count": 1,
   "id": "46dd598f",
   "metadata": {},
   "outputs": [],
   "source": [
    "# Import Pandas and Create_Engine\n",
    "\n",
    "from sqlalchemy import create_engine\n",
    "import pandas as pd\n",
    "import sqlite3\n",
    "\n",
    "con = sqlite3.connect(\"ladder.db\")"
   ]
  },
  {
   "cell_type": "markdown",
   "id": "e3d03923",
   "metadata": {},
   "source": [
    "1) Query all the data in the pets table. "
   ]
  },
  {
   "cell_type": "code",
   "execution_count": 2,
   "id": "d8db8795",
   "metadata": {},
   "outputs": [
    {
     "ename": "DatabaseError",
     "evalue": "Execution failed on sql 'SELECT * FROM pets;': no such table: pets",
     "output_type": "error",
     "traceback": [
      "\u001b[0;31m---------------------------------------------------------------------------\u001b[0m",
      "\u001b[0;31mOperationalError\u001b[0m                          Traceback (most recent call last)",
      "\u001b[0;32m~/opt/anaconda3/lib/python3.9/site-packages/pandas/io/sql.py\u001b[0m in \u001b[0;36mexecute\u001b[0;34m(self, *args, **kwargs)\u001b[0m\n\u001b[1;32m   2022\u001b[0m         \u001b[0;32mtry\u001b[0m\u001b[0;34m:\u001b[0m\u001b[0;34m\u001b[0m\u001b[0;34m\u001b[0m\u001b[0m\n\u001b[0;32m-> 2023\u001b[0;31m             \u001b[0mcur\u001b[0m\u001b[0;34m.\u001b[0m\u001b[0mexecute\u001b[0m\u001b[0;34m(\u001b[0m\u001b[0;34m*\u001b[0m\u001b[0margs\u001b[0m\u001b[0;34m,\u001b[0m \u001b[0;34m**\u001b[0m\u001b[0mkwargs\u001b[0m\u001b[0;34m)\u001b[0m\u001b[0;34m\u001b[0m\u001b[0;34m\u001b[0m\u001b[0m\n\u001b[0m\u001b[1;32m   2024\u001b[0m             \u001b[0;32mreturn\u001b[0m \u001b[0mcur\u001b[0m\u001b[0;34m\u001b[0m\u001b[0;34m\u001b[0m\u001b[0m\n",
      "\u001b[0;31mOperationalError\u001b[0m: no such table: pets",
      "\nThe above exception was the direct cause of the following exception:\n",
      "\u001b[0;31mDatabaseError\u001b[0m                             Traceback (most recent call last)",
      "\u001b[0;32m/var/folders/m6/x6_xf28d6vv18vkb7w_wnjbw0000gq/T/ipykernel_941/3009899998.py\u001b[0m in \u001b[0;36m<module>\u001b[0;34m\u001b[0m\n\u001b[0;32m----> 1\u001b[0;31m \u001b[0mpd\u001b[0m\u001b[0;34m.\u001b[0m\u001b[0mread_sql\u001b[0m\u001b[0;34m(\u001b[0m\u001b[0;34m\"SELECT * FROM pets;\"\u001b[0m\u001b[0;34m,\u001b[0m \u001b[0mcon\u001b[0m\u001b[0;34m)\u001b[0m\u001b[0;34m\u001b[0m\u001b[0;34m\u001b[0m\u001b[0m\n\u001b[0m",
      "\u001b[0;32m~/opt/anaconda3/lib/python3.9/site-packages/pandas/io/sql.py\u001b[0m in \u001b[0;36mread_sql\u001b[0;34m(sql, con, index_col, coerce_float, params, parse_dates, columns, chunksize)\u001b[0m\n\u001b[1;32m    565\u001b[0m \u001b[0;34m\u001b[0m\u001b[0m\n\u001b[1;32m    566\u001b[0m     \u001b[0;32mif\u001b[0m \u001b[0misinstance\u001b[0m\u001b[0;34m(\u001b[0m\u001b[0mpandas_sql\u001b[0m\u001b[0;34m,\u001b[0m \u001b[0mSQLiteDatabase\u001b[0m\u001b[0;34m)\u001b[0m\u001b[0;34m:\u001b[0m\u001b[0;34m\u001b[0m\u001b[0;34m\u001b[0m\u001b[0m\n\u001b[0;32m--> 567\u001b[0;31m         return pandas_sql.read_query(\n\u001b[0m\u001b[1;32m    568\u001b[0m             \u001b[0msql\u001b[0m\u001b[0;34m,\u001b[0m\u001b[0;34m\u001b[0m\u001b[0;34m\u001b[0m\u001b[0m\n\u001b[1;32m    569\u001b[0m             \u001b[0mindex_col\u001b[0m\u001b[0;34m=\u001b[0m\u001b[0mindex_col\u001b[0m\u001b[0;34m,\u001b[0m\u001b[0;34m\u001b[0m\u001b[0;34m\u001b[0m\u001b[0m\n",
      "\u001b[0;32m~/opt/anaconda3/lib/python3.9/site-packages/pandas/io/sql.py\u001b[0m in \u001b[0;36mread_query\u001b[0;34m(self, sql, index_col, coerce_float, params, parse_dates, chunksize, dtype)\u001b[0m\n\u001b[1;32m   2081\u001b[0m \u001b[0;34m\u001b[0m\u001b[0m\n\u001b[1;32m   2082\u001b[0m         \u001b[0margs\u001b[0m \u001b[0;34m=\u001b[0m \u001b[0m_convert_params\u001b[0m\u001b[0;34m(\u001b[0m\u001b[0msql\u001b[0m\u001b[0;34m,\u001b[0m \u001b[0mparams\u001b[0m\u001b[0;34m)\u001b[0m\u001b[0;34m\u001b[0m\u001b[0;34m\u001b[0m\u001b[0m\n\u001b[0;32m-> 2083\u001b[0;31m         \u001b[0mcursor\u001b[0m \u001b[0;34m=\u001b[0m \u001b[0mself\u001b[0m\u001b[0;34m.\u001b[0m\u001b[0mexecute\u001b[0m\u001b[0;34m(\u001b[0m\u001b[0;34m*\u001b[0m\u001b[0margs\u001b[0m\u001b[0;34m)\u001b[0m\u001b[0;34m\u001b[0m\u001b[0;34m\u001b[0m\u001b[0m\n\u001b[0m\u001b[1;32m   2084\u001b[0m         \u001b[0mcolumns\u001b[0m \u001b[0;34m=\u001b[0m \u001b[0;34m[\u001b[0m\u001b[0mcol_desc\u001b[0m\u001b[0;34m[\u001b[0m\u001b[0;36m0\u001b[0m\u001b[0;34m]\u001b[0m \u001b[0;32mfor\u001b[0m \u001b[0mcol_desc\u001b[0m \u001b[0;32min\u001b[0m \u001b[0mcursor\u001b[0m\u001b[0;34m.\u001b[0m\u001b[0mdescription\u001b[0m\u001b[0;34m]\u001b[0m\u001b[0;34m\u001b[0m\u001b[0;34m\u001b[0m\u001b[0m\n\u001b[1;32m   2085\u001b[0m \u001b[0;34m\u001b[0m\u001b[0m\n",
      "\u001b[0;32m~/opt/anaconda3/lib/python3.9/site-packages/pandas/io/sql.py\u001b[0m in \u001b[0;36mexecute\u001b[0;34m(self, *args, **kwargs)\u001b[0m\n\u001b[1;32m   2033\u001b[0m \u001b[0;34m\u001b[0m\u001b[0m\n\u001b[1;32m   2034\u001b[0m             \u001b[0mex\u001b[0m \u001b[0;34m=\u001b[0m \u001b[0mDatabaseError\u001b[0m\u001b[0;34m(\u001b[0m\u001b[0;34mf\"Execution failed on sql '{args[0]}': {exc}\"\u001b[0m\u001b[0;34m)\u001b[0m\u001b[0;34m\u001b[0m\u001b[0;34m\u001b[0m\u001b[0m\n\u001b[0;32m-> 2035\u001b[0;31m             \u001b[0;32mraise\u001b[0m \u001b[0mex\u001b[0m \u001b[0;32mfrom\u001b[0m \u001b[0mexc\u001b[0m\u001b[0;34m\u001b[0m\u001b[0;34m\u001b[0m\u001b[0m\n\u001b[0m\u001b[1;32m   2036\u001b[0m \u001b[0;34m\u001b[0m\u001b[0m\n\u001b[1;32m   2037\u001b[0m     \u001b[0;34m@\u001b[0m\u001b[0mstaticmethod\u001b[0m\u001b[0;34m\u001b[0m\u001b[0;34m\u001b[0m\u001b[0m\n",
      "\u001b[0;31mDatabaseError\u001b[0m: Execution failed on sql 'SELECT * FROM pets;': no such table: pets"
     ]
    }
   ],
   "source": [
    "pd.read_sql(\"SELECT * FROM pets;\", con)"
   ]
  },
  {
   "cell_type": "markdown",
   "id": "97f57702",
   "metadata": {},
   "source": [
    " 2) Query only the first 5 rows of the pets table."
   ]
  },
  {
   "cell_type": "code",
   "execution_count": 3,
   "id": "765e6670",
   "metadata": {},
   "outputs": [
    {
     "ename": "DatabaseError",
     "evalue": "Execution failed on sql '\nSELECT *\nFROM pets\nLIMIT 5\n': no such table: pets",
     "output_type": "error",
     "traceback": [
      "\u001b[0;31m---------------------------------------------------------------------------\u001b[0m",
      "\u001b[0;31mOperationalError\u001b[0m                          Traceback (most recent call last)",
      "\u001b[0;32m~/opt/anaconda3/lib/python3.9/site-packages/pandas/io/sql.py\u001b[0m in \u001b[0;36mexecute\u001b[0;34m(self, *args, **kwargs)\u001b[0m\n\u001b[1;32m   2022\u001b[0m         \u001b[0;32mtry\u001b[0m\u001b[0;34m:\u001b[0m\u001b[0;34m\u001b[0m\u001b[0;34m\u001b[0m\u001b[0m\n\u001b[0;32m-> 2023\u001b[0;31m             \u001b[0mcur\u001b[0m\u001b[0;34m.\u001b[0m\u001b[0mexecute\u001b[0m\u001b[0;34m(\u001b[0m\u001b[0;34m*\u001b[0m\u001b[0margs\u001b[0m\u001b[0;34m,\u001b[0m \u001b[0;34m**\u001b[0m\u001b[0mkwargs\u001b[0m\u001b[0;34m)\u001b[0m\u001b[0;34m\u001b[0m\u001b[0;34m\u001b[0m\u001b[0m\n\u001b[0m\u001b[1;32m   2024\u001b[0m             \u001b[0;32mreturn\u001b[0m \u001b[0mcur\u001b[0m\u001b[0;34m\u001b[0m\u001b[0;34m\u001b[0m\u001b[0m\n",
      "\u001b[0;31mOperationalError\u001b[0m: no such table: pets",
      "\nThe above exception was the direct cause of the following exception:\n",
      "\u001b[0;31mDatabaseError\u001b[0m                             Traceback (most recent call last)",
      "\u001b[0;32m/var/folders/m6/x6_xf28d6vv18vkb7w_wnjbw0000gq/T/ipykernel_941/1670599688.py\u001b[0m in \u001b[0;36m<module>\u001b[0;34m\u001b[0m\n\u001b[1;32m      4\u001b[0m \u001b[0mLIMIT\u001b[0m \u001b[0;36m5\u001b[0m\u001b[0;34m\u001b[0m\u001b[0;34m\u001b[0m\u001b[0m\n\u001b[1;32m      5\u001b[0m '''\n\u001b[0;32m----> 6\u001b[0;31m \u001b[0mpd\u001b[0m\u001b[0;34m.\u001b[0m\u001b[0mread_sql_query\u001b[0m\u001b[0;34m(\u001b[0m\u001b[0msql\u001b[0m\u001b[0;34m,\u001b[0m \u001b[0mcon\u001b[0m\u001b[0;34m)\u001b[0m\u001b[0;34m\u001b[0m\u001b[0;34m\u001b[0m\u001b[0m\n\u001b[0m",
      "\u001b[0;32m~/opt/anaconda3/lib/python3.9/site-packages/pandas/io/sql.py\u001b[0m in \u001b[0;36mread_sql_query\u001b[0;34m(sql, con, index_col, coerce_float, params, parse_dates, chunksize, dtype)\u001b[0m\n\u001b[1;32m    398\u001b[0m     \"\"\"\n\u001b[1;32m    399\u001b[0m     \u001b[0mpandas_sql\u001b[0m \u001b[0;34m=\u001b[0m \u001b[0mpandasSQL_builder\u001b[0m\u001b[0;34m(\u001b[0m\u001b[0mcon\u001b[0m\u001b[0;34m)\u001b[0m\u001b[0;34m\u001b[0m\u001b[0;34m\u001b[0m\u001b[0m\n\u001b[0;32m--> 400\u001b[0;31m     return pandas_sql.read_query(\n\u001b[0m\u001b[1;32m    401\u001b[0m         \u001b[0msql\u001b[0m\u001b[0;34m,\u001b[0m\u001b[0;34m\u001b[0m\u001b[0;34m\u001b[0m\u001b[0m\n\u001b[1;32m    402\u001b[0m         \u001b[0mindex_col\u001b[0m\u001b[0;34m=\u001b[0m\u001b[0mindex_col\u001b[0m\u001b[0;34m,\u001b[0m\u001b[0;34m\u001b[0m\u001b[0;34m\u001b[0m\u001b[0m\n",
      "\u001b[0;32m~/opt/anaconda3/lib/python3.9/site-packages/pandas/io/sql.py\u001b[0m in \u001b[0;36mread_query\u001b[0;34m(self, sql, index_col, coerce_float, params, parse_dates, chunksize, dtype)\u001b[0m\n\u001b[1;32m   2081\u001b[0m \u001b[0;34m\u001b[0m\u001b[0m\n\u001b[1;32m   2082\u001b[0m         \u001b[0margs\u001b[0m \u001b[0;34m=\u001b[0m \u001b[0m_convert_params\u001b[0m\u001b[0;34m(\u001b[0m\u001b[0msql\u001b[0m\u001b[0;34m,\u001b[0m \u001b[0mparams\u001b[0m\u001b[0;34m)\u001b[0m\u001b[0;34m\u001b[0m\u001b[0;34m\u001b[0m\u001b[0m\n\u001b[0;32m-> 2083\u001b[0;31m         \u001b[0mcursor\u001b[0m \u001b[0;34m=\u001b[0m \u001b[0mself\u001b[0m\u001b[0;34m.\u001b[0m\u001b[0mexecute\u001b[0m\u001b[0;34m(\u001b[0m\u001b[0;34m*\u001b[0m\u001b[0margs\u001b[0m\u001b[0;34m)\u001b[0m\u001b[0;34m\u001b[0m\u001b[0;34m\u001b[0m\u001b[0m\n\u001b[0m\u001b[1;32m   2084\u001b[0m         \u001b[0mcolumns\u001b[0m \u001b[0;34m=\u001b[0m \u001b[0;34m[\u001b[0m\u001b[0mcol_desc\u001b[0m\u001b[0;34m[\u001b[0m\u001b[0;36m0\u001b[0m\u001b[0;34m]\u001b[0m \u001b[0;32mfor\u001b[0m \u001b[0mcol_desc\u001b[0m \u001b[0;32min\u001b[0m \u001b[0mcursor\u001b[0m\u001b[0;34m.\u001b[0m\u001b[0mdescription\u001b[0m\u001b[0;34m]\u001b[0m\u001b[0;34m\u001b[0m\u001b[0;34m\u001b[0m\u001b[0m\n\u001b[1;32m   2085\u001b[0m \u001b[0;34m\u001b[0m\u001b[0m\n",
      "\u001b[0;32m~/opt/anaconda3/lib/python3.9/site-packages/pandas/io/sql.py\u001b[0m in \u001b[0;36mexecute\u001b[0;34m(self, *args, **kwargs)\u001b[0m\n\u001b[1;32m   2033\u001b[0m \u001b[0;34m\u001b[0m\u001b[0m\n\u001b[1;32m   2034\u001b[0m             \u001b[0mex\u001b[0m \u001b[0;34m=\u001b[0m \u001b[0mDatabaseError\u001b[0m\u001b[0;34m(\u001b[0m\u001b[0;34mf\"Execution failed on sql '{args[0]}': {exc}\"\u001b[0m\u001b[0;34m)\u001b[0m\u001b[0;34m\u001b[0m\u001b[0;34m\u001b[0m\u001b[0m\n\u001b[0;32m-> 2035\u001b[0;31m             \u001b[0;32mraise\u001b[0m \u001b[0mex\u001b[0m \u001b[0;32mfrom\u001b[0m \u001b[0mexc\u001b[0m\u001b[0;34m\u001b[0m\u001b[0;34m\u001b[0m\u001b[0m\n\u001b[0m\u001b[1;32m   2036\u001b[0m \u001b[0;34m\u001b[0m\u001b[0m\n\u001b[1;32m   2037\u001b[0m     \u001b[0;34m@\u001b[0m\u001b[0mstaticmethod\u001b[0m\u001b[0;34m\u001b[0m\u001b[0;34m\u001b[0m\u001b[0m\n",
      "\u001b[0;31mDatabaseError\u001b[0m: Execution failed on sql '\nSELECT *\nFROM pets\nLIMIT 5\n': no such table: pets"
     ]
    }
   ],
   "source": [
    "sql = '''\n",
    "SELECT *\n",
    "FROM pets\n",
    "LIMIT 5\n",
    "'''\n",
    "pd.read_sql_query(sql, con)\n"
   ]
  },
  {
   "cell_type": "markdown",
   "id": "027227f8",
   "metadata": {},
   "source": [
    "3) Query only the names and ages of the pets in the pets"
   ]
  },
  {
   "cell_type": "code",
   "execution_count": null,
   "id": "c83b393e",
   "metadata": {},
   "outputs": [],
   "source": [
    "sql = '''\n",
    "SELECT name, age\n",
    "FROM pets\n",
    "LIMIT 5\n",
    "'''\n",
    "pd.read_sql_query(sql, con)\n"
   ]
  },
  {
   "cell_type": "markdown",
   "id": "66d7131b",
   "metadata": {},
   "source": [
    "4) Query the pets in the `pets` table, sorted youngest to oldest."
   ]
  },
  {
   "cell_type": "code",
   "execution_count": null,
   "id": "5522465d",
   "metadata": {},
   "outputs": [],
   "source": [
    "sql = '''\n",
    "SELECT species, age\n",
    "FROM pets\n",
    "ORDER BY age \n",
    "LIMIT 5;\n",
    "'''\n",
    "pd.read_sql_query(sql, con)"
   ]
  },
  {
   "cell_type": "markdown",
   "id": "ac8bb4bd",
   "metadata": {},
   "source": [
    "5) Query the pets in the `pets` table alphabetically."
   ]
  },
  {
   "cell_type": "code",
   "execution_count": null,
   "id": "81b9d9ec",
   "metadata": {},
   "outputs": [],
   "source": [
    "sql = '''\n",
    "SELECT species\n",
    "FROM pets\n",
    "ORDER BY species;\n",
    "'''\n",
    "pd.read_sql_query(sql, con)"
   ]
  },
  {
   "cell_type": "markdown",
   "id": "b8f8252f",
   "metadata": {},
   "source": [
    "6) Query all the male pets in the `pets` table."
   ]
  },
  {
   "cell_type": "code",
   "execution_count": null,
   "id": "a1776a27",
   "metadata": {},
   "outputs": [],
   "source": [
    "sql = '''\n",
    "SELECT *\n",
    "FROM pets\n",
    "WHERE sex = 'M';\n",
    "'''\n",
    "pd.read_sql_query(sql, con)"
   ]
  },
  {
   "cell_type": "markdown",
   "id": "c51cf9bd",
   "metadata": {},
   "source": [
    "7) Query all the cats in the `pets` table."
   ]
  },
  {
   "cell_type": "code",
   "execution_count": null,
   "id": "291962a4",
   "metadata": {},
   "outputs": [],
   "source": [
    "sql = '''\n",
    "SELECT *\n",
    "FROM pets\n",
    "WHERE species = 'cat';\n",
    "'''\n",
    "pd.read_sql_query(sql, con)"
   ]
  },
  {
   "cell_type": "markdown",
   "id": "3409c651",
   "metadata": {},
   "source": [
    "8) Query all the pets in the `pets` table that are at least 5 years old."
   ]
  },
  {
   "cell_type": "code",
   "execution_count": null,
   "id": "1b8b248b",
   "metadata": {},
   "outputs": [],
   "source": [
    "sql = '''\n",
    "SELECT *\n",
    "FROM pets\n",
    "WHERE age >= 5;\n",
    "'''\n",
    "pd.read_sql_query(sql, con)"
   ]
  },
  {
   "cell_type": "markdown",
   "id": "0f190277",
   "metadata": {},
   "source": [
    "9) Query all the male dogs in the `pets` table. Do not include the sex or species column, since you already know them."
   ]
  },
  {
   "cell_type": "code",
   "execution_count": null,
   "id": "f651d137",
   "metadata": {},
   "outputs": [],
   "source": [
    "sql = '''\n",
    "SELECT name, age\n",
    "FROM pets\n",
    "WHERE (sex = 'M') and (species = 'dog');\n",
    "'''\n",
    "pd.read_sql_query(sql, con)"
   ]
  },
  {
   "cell_type": "markdown",
   "id": "ad5a4e99",
   "metadata": {},
   "source": [
    "10) Get all the names of the dogs in the `pets` table that are younger than 5 years old."
   ]
  },
  {
   "cell_type": "code",
   "execution_count": null,
   "id": "93109a02",
   "metadata": {},
   "outputs": [],
   "source": [
    "sql = '''\n",
    "SELECT name\n",
    "FROM pets\n",
    "WHERE (age < 5) AND (species = 'dog');\n",
    "'''\n",
    "pd.read_sql_query(sql, con)"
   ]
  },
  {
   "cell_type": "markdown",
   "id": "e18a3b1b",
   "metadata": {},
   "source": [
    "11) Query all the pets in the `pets` table that are either male dogs or female cats."
   ]
  },
  {
   "cell_type": "code",
   "execution_count": null,
   "id": "6964cd7e",
   "metadata": {},
   "outputs": [],
   "source": [
    "sql = '''\n",
    "SELECT *\n",
    "FROM pets\n",
    "WHERE (sex = 'M' AND species = 'dog') OR \\\n",
    "(sex = 'F' AND species = 'cat');\n",
    "'''\n",
    "pd.read_sql_query(sql, con)"
   ]
  },
  {
   "cell_type": "markdown",
   "id": "17dac69c",
   "metadata": {},
   "source": [
    "12) Query the five oldest pets in the `pets` table."
   ]
  },
  {
   "cell_type": "code",
   "execution_count": null,
   "id": "9a71ad9a",
   "metadata": {},
   "outputs": [],
   "source": [
    "sql = '''\n",
    "SELECT *\n",
    "FROM pets\n",
    "ORDER BY age DESC\n",
    "LIMIT 5;\n",
    "'''\n",
    "pd.read_sql_query(sql, con)"
   ]
  },
  {
   "cell_type": "markdown",
   "id": "b0208068",
   "metadata": {},
   "source": [
    "13) Get the names and ages of all the female cats in the `pets` table sorted by age, descending."
   ]
  },
  {
   "cell_type": "code",
   "execution_count": null,
   "id": "350b8db1",
   "metadata": {},
   "outputs": [],
   "source": [
    "sql = '''\n",
    "SELECT name, age\n",
    "FROM pets\n",
    "WHERE species = 'cat' AND sex = 'F'\n",
    "ORDER BY age DESC;\n",
    "'''\n",
    "pd.read_sql_query(sql, con)"
   ]
  },
  {
   "cell_type": "markdown",
   "id": "032cdf9a",
   "metadata": {},
   "source": [
    "14) Get all pets from `pets` whose names start with P."
   ]
  },
  {
   "cell_type": "code",
   "execution_count": null,
   "id": "dfc4f7da",
   "metadata": {},
   "outputs": [],
   "source": [
    "sql = '''\n",
    "SELECT *\n",
    "FROM pets\n",
    "WHERE name LIKE \"P%%\"\n",
    "ORDER BY age DESC;\n",
    "'''\n",
    "pd.read_sql_query(sql, con)"
   ]
  },
  {
   "cell_type": "markdown",
   "id": "eae2c7c8",
   "metadata": {},
   "source": [
    "15) Select all employees from `employees_null` where the salary is missing."
   ]
  },
  {
   "cell_type": "code",
   "execution_count": null,
   "id": "8ef0851f",
   "metadata": {},
   "outputs": [],
   "source": [
    "sql = '''\n",
    "SELECT *\n",
    "FROM employees_null\n",
    "WHERE salary IS NULL;\n",
    "'''\n",
    "pd.read_sql_query(sql, con)"
   ]
  },
  {
   "cell_type": "markdown",
   "id": "dadfb749",
   "metadata": {},
   "source": [
    "16) Select all employees from `employees_null` where the salary is below $35,000 or missing."
   ]
  },
  {
   "cell_type": "code",
   "execution_count": null,
   "id": "b24336ea",
   "metadata": {},
   "outputs": [],
   "source": [
    "sql = '''\n",
    "SELECT *\n",
    "FROM employees_null\n",
    "WHERE salary < 35000 OR salary IS NULL;\n",
    "'''\n",
    "pd.read_sql_query(sql, con)"
   ]
  },
  {
   "cell_type": "markdown",
   "id": "df8607bf",
   "metadata": {},
   "source": [
    "17) Select all employees from `employees_null` where the job title is missing. What do you see?"
   ]
  },
  {
   "cell_type": "code",
   "execution_count": null,
   "id": "d50a653c",
   "metadata": {},
   "outputs": [],
   "source": [
    "sql = '''\n",
    "SELECT *\n",
    "FROM employees_null\n",
    "WHERE job IS NULL;\n",
    "'''\n",
    "pd.read_sql_query(sql, con)"
   ]
  },
  {
   "cell_type": "markdown",
   "id": "0800d2e8",
   "metadata": {},
   "source": [
    "18) Who is the newest employee in `employees`? The most senior?"
   ]
  },
  {
   "cell_type": "code",
   "execution_count": null,
   "id": "19dcce3d",
   "metadata": {},
   "outputs": [],
   "source": [
    "sql = '''\n",
    "SELECT lastname, firstname, startdate\n",
    "FROM employees \n",
    "WHERE startdate = (SELECT MAX(startdate) FROM employees)\\\n",
    "OR startdate = (SELECT MIN(startdate) FROM employees);\n",
    "'''\n",
    "pd.read_sql_query(sql, con)"
   ]
  },
  {
   "cell_type": "markdown",
   "id": "29813bc1",
   "metadata": {},
   "source": [
    "19) Select all employees from `employees` named Thomas."
   ]
  },
  {
   "cell_type": "code",
   "execution_count": null,
   "id": "1c68fd1e",
   "metadata": {},
   "outputs": [],
   "source": [
    "sql = '''\n",
    "SELECT firstname || \" \" || lastname as \"Name\"\n",
    "FROM employees\n",
    "WHERE LOWER(firstname) = \"thomas\" OR LOWER(lastname) = \"thomas\";\n",
    "\n",
    "'''\n",
    "pd.read_sql_query(sql, con)"
   ]
  },
  {
   "cell_type": "markdown",
   "id": "6b3b573f",
   "metadata": {},
   "source": [
    "20) Select all employees from `employees` named Thomas or Shannon."
   ]
  },
  {
   "cell_type": "code",
   "execution_count": null,
   "id": "e4b28e63",
   "metadata": {},
   "outputs": [],
   "source": [
    "sql = '''\n",
    "SELECT firstname || \" \" || lastname as \"Name\"\n",
    "FROM employees\n",
    "WHERE (LOWER(firstname) = \"thomas\" OR LOWER(lastname) = \"thomas\") OR \\\n",
    "(LOWER(firstname) = 'shannon' or LOWER(lastname) = \"shannon\");\n",
    "\n",
    "'''\n",
    "pd.read_sql_query(sql, con)"
   ]
  },
  {
   "cell_type": "markdown",
   "id": "8eaaaa18",
   "metadata": {},
   "source": [
    "21) Select all employees from `employees` named Robert, Lisa, or any name that begins with a J. In addition, only show employees who are _not_ in sales. This will be a little bit of a longer query.\n",
    "    * _Hint:_ There will only be 6 rows in the result."
   ]
  },
  {
   "cell_type": "code",
   "execution_count": null,
   "id": "fd77e267",
   "metadata": {},
   "outputs": [],
   "source": [
    "sql = '''\n",
    "SELECT firstname || \" \" || lastname as \"Name\", job\n",
    "FROM employees\n",
    "WHERE job != \"Sales\" AND\n",
    "((LOWER(firstname) = \"robert\" OR LOWER(lastname) = \"robert\") OR \n",
    "(LOWER(firstname) = 'lisa' or LOWER(lastname) = \"or\")\n",
    "OR LOWER(firstname) LIKE \"j%%\" OR LOWER(lastname) LIKE \"j%%\") \n",
    ";\n",
    "\n",
    "'''\n",
    "pd.read_sql_query(sql, con)"
   ]
  },
  {
   "cell_type": "code",
   "execution_count": null,
   "id": "94ae2dc8",
   "metadata": {},
   "outputs": [],
   "source": []
  }
 ],
 "metadata": {
  "kernelspec": {
   "display_name": "Python 3 (ipykernel)",
   "language": "python",
   "name": "python3"
  },
  "language_info": {
   "codemirror_mode": {
    "name": "ipython",
    "version": 3
   },
   "file_extension": ".py",
   "mimetype": "text/x-python",
   "name": "python",
   "nbconvert_exporter": "python",
   "pygments_lexer": "ipython3",
   "version": "3.9.13"
  }
 },
 "nbformat": 4,
 "nbformat_minor": 5
}
