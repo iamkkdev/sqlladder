{
 "cells": [
  {
   "cell_type": "markdown",
   "id": "d959fc16",
   "metadata": {},
   "source": [
    "# Summarizing Data with SQL\n",
    "\n",
    "## Summary Statistics\n",
    "32) How many rows are in the `pets` table?\n",
    "33) How many female pets are in the `pets` table?\n",
    "34) How many female cats are in the `pets` table?\n",
    "35) What's the mean age of pets in the `pets` table?\n",
    "36) What's the mean age of dogs in the `pets` table?\n",
    "37) What's the mean age of male dogs in the `pets` table?\n",
    "38) What's the count, mean, minimum, and maximum of pet ages in the `pets` table?\n",
    "    * _NOTE:_ SQLite doesn't have built-in formulas for standard deviation or median!\n",
    "39) Repeat the previous problem with the following stipulations:\n",
    "    * Round the average to one decimal place.\n",
    "    * Give each column a human-readable column name (for example, \"Average Age\")\n",
    "40) How many rows in `employees_null` have missing salaries?\n",
    "41) How many salespeople in `employees_null` having _nonmissing_ salaries?\n",
    "42) What's the mean salary of employees who joined the company after 2010? Go back to the usual `employees` table for this one.\n",
    "    * _Hint:_ You may need to use the `CAST()` function for this. To cast a string as a float, you can do `CAST(x AS REAL)`\n",
    "43) What's the mean salary of employees in Swiss Francs?\n",
    "    * _Hint:_ Swiss Francs are abbreviated \"CHF\" and 1 USD = 0.97 CHF.\n",
    "44) Create a query that computes the mean salary in USD as well as CHF. Give the columns human-readable names (for example \"Mean Salary in USD\"). Also, format them with comma delimiters and currency symbols.\n",
    "    * _NOTE:_ Comma-delimiting numbers is only available for integers in SQLite, so rounding (down) to the nearest dollar or franc will be done for us.\n",
    "    * _NOTE2:_ The symbols for francs is simply `Fr.` or `fr.`. So an example output will look like `100,000 Fr.`.\n",
    "\n",
    "## Aggregating Statistics with GROUP BY\n",
    "45) What is the average age of `pets` by species?\n",
    "46) Repeat the previous problem but make sure the species label is also displayed! Assume this behavior is always being asked of you any time you use `GROUP BY`.\n",
    "47) What is the count, mean, minimum, and maximum age by species in `pets`?\n",
    "48) Show the mean salaries of each job title in `employees`.\n",
    "49) Show the mean salaries in New Zealand dollars of each job title in `employees`.\n",
    "    * _NOTE:_ 1 USD = 1.65 NZD.\n",
    "50) Show the mean, min, and max salaries of each job title in `employees`, as well as the numbers of employees in each category.\n",
    "51) Show the mean salaries of each job title in `employees` sorted descending by salary.\n",
    "52) What are the top 5 most common first names among `employees`?\n",
    "53) Show all first names which have exactly 2 occurrences in `employees`.\n",
    "54) Take a look at the `transactions` table to get a idea of what it contains. Note that a transaction may span multiple rows if different items are purchased as part of the same order. The employee who made the order is also given by their ID.\n",
    "55) Show the top 5 largest orders (and their respective customer) in terms of the numbers of items purchased in that order.\n",
    "56) Show the total cost of each transaction.\n",
    "    * _Hint:_ The `unit_price` column is the price of _one_ item. The customer may have purchased multiple.\n",
    "    * _Hint2:_ Note that transactions here span multiple rows if different items are purchased.\n",
    "57) Show the top 5 transactions in terms of total cost.\n",
    "58) Show the top 5 customers in terms of total revenue (ie, which customers have we done the most business with in terms of money?)\n",
    "59) Show the top 5 employees in terms of revenue generated (ie, which employees made the most in sales?)\n",
    "60) Which customer worked with the largest number of employees?\n",
    "    * _Hint:_ This is a tough one! Check out the `DISTINCT` keyword.\n",
    "61) Show all customers who've done more than $80,000 worth of business with us.\n"
   ]
  },
  {
   "cell_type": "code",
   "execution_count": 1,
   "id": "b4883cd6",
   "metadata": {},
   "outputs": [],
   "source": [
    "# Import Pandas and Create_Engine\n",
    "\n",
    "from sqlalchemy import create_engine\n",
    "import pandas as pd\n",
    "import sqlite3\n",
    "\n",
    "con = sqlite3.connect(\"../ladder.db\")"
   ]
  },
  {
   "cell_type": "markdown",
   "id": "5f46dcf5",
   "metadata": {},
   "source": [
    "32) How many rows are in the pets"
   ]
  },
  {
   "cell_type": "code",
   "execution_count": 2,
   "id": "689bdc5c",
   "metadata": {},
   "outputs": [
    {
     "data": {
      "text/html": [
       "<div>\n",
       "<style scoped>\n",
       "    .dataframe tbody tr th:only-of-type {\n",
       "        vertical-align: middle;\n",
       "    }\n",
       "\n",
       "    .dataframe tbody tr th {\n",
       "        vertical-align: top;\n",
       "    }\n",
       "\n",
       "    .dataframe thead th {\n",
       "        text-align: right;\n",
       "    }\n",
       "</style>\n",
       "<table border=\"1\" class=\"dataframe\">\n",
       "  <thead>\n",
       "    <tr style=\"text-align: right;\">\n",
       "      <th></th>\n",
       "      <th>total_rows</th>\n",
       "    </tr>\n",
       "  </thead>\n",
       "  <tbody>\n",
       "    <tr>\n",
       "      <th>0</th>\n",
       "      <td>13</td>\n",
       "    </tr>\n",
       "  </tbody>\n",
       "</table>\n",
       "</div>"
      ],
      "text/plain": [
       "   total_rows\n",
       "0          13"
      ]
     },
     "execution_count": 2,
     "metadata": {},
     "output_type": "execute_result"
    }
   ],
   "source": [
    "pd.read_sql(\"SELECT COUNT(*) AS total_rows FROM pets;\", con)"
   ]
  },
  {
   "cell_type": "markdown",
   "id": "4d94fcac",
   "metadata": {},
   "source": [
    "33) How many female pets are in the pets table?"
   ]
  },
  {
   "cell_type": "code",
   "execution_count": 3,
   "id": "4870cc55",
   "metadata": {},
   "outputs": [
    {
     "data": {
      "text/html": [
       "<div>\n",
       "<style scoped>\n",
       "    .dataframe tbody tr th:only-of-type {\n",
       "        vertical-align: middle;\n",
       "    }\n",
       "\n",
       "    .dataframe tbody tr th {\n",
       "        vertical-align: top;\n",
       "    }\n",
       "\n",
       "    .dataframe thead th {\n",
       "        text-align: right;\n",
       "    }\n",
       "</style>\n",
       "<table border=\"1\" class=\"dataframe\">\n",
       "  <thead>\n",
       "    <tr style=\"text-align: right;\">\n",
       "      <th></th>\n",
       "      <th>Female_Pets</th>\n",
       "    </tr>\n",
       "  </thead>\n",
       "  <tbody>\n",
       "    <tr>\n",
       "      <th>0</th>\n",
       "      <td>7</td>\n",
       "    </tr>\n",
       "  </tbody>\n",
       "</table>\n",
       "</div>"
      ],
      "text/plain": [
       "   Female_Pets\n",
       "0            7"
      ]
     },
     "execution_count": 3,
     "metadata": {},
     "output_type": "execute_result"
    }
   ],
   "source": [
    "sql = '''\n",
    "SELECT COUNT(*) AS \"Female_Pets\"\n",
    "FROM pets\n",
    "WHERE sex = 'F';\n",
    "'''\n",
    "pd.read_sql_query(sql, con)"
   ]
  },
  {
   "cell_type": "markdown",
   "id": "a85aeb3d",
   "metadata": {},
   "source": [
    "34) How many female cats are in the pets table? "
   ]
  },
  {
   "cell_type": "code",
   "execution_count": 4,
   "id": "4c0749ff",
   "metadata": {},
   "outputs": [
    {
     "data": {
      "text/html": [
       "<div>\n",
       "<style scoped>\n",
       "    .dataframe tbody tr th:only-of-type {\n",
       "        vertical-align: middle;\n",
       "    }\n",
       "\n",
       "    .dataframe tbody tr th {\n",
       "        vertical-align: top;\n",
       "    }\n",
       "\n",
       "    .dataframe thead th {\n",
       "        text-align: right;\n",
       "    }\n",
       "</style>\n",
       "<table border=\"1\" class=\"dataframe\">\n",
       "  <thead>\n",
       "    <tr style=\"text-align: right;\">\n",
       "      <th></th>\n",
       "      <th>Female_Cats</th>\n",
       "    </tr>\n",
       "  </thead>\n",
       "  <tbody>\n",
       "    <tr>\n",
       "      <th>0</th>\n",
       "      <td>4</td>\n",
       "    </tr>\n",
       "  </tbody>\n",
       "</table>\n",
       "</div>"
      ],
      "text/plain": [
       "   Female_Cats\n",
       "0            4"
      ]
     },
     "execution_count": 4,
     "metadata": {},
     "output_type": "execute_result"
    }
   ],
   "source": [
    "sql = '''\n",
    "SELECT COUNT(*) AS \"Female_Cats\"\n",
    "FROM pets\n",
    "WHERE sex = 'F' AND LOWER(species) = 'cat';\n",
    "'''\n",
    "pd.read_sql_query(sql, con)"
   ]
  },
  {
   "cell_type": "markdown",
   "id": "edb8a7b3",
   "metadata": {},
   "source": [
    "35) What's the mean age of pets in the pets table?"
   ]
  },
  {
   "cell_type": "code",
   "execution_count": 5,
   "id": "bbc8a860",
   "metadata": {},
   "outputs": [
    {
     "data": {
      "text/html": [
       "<div>\n",
       "<style scoped>\n",
       "    .dataframe tbody tr th:only-of-type {\n",
       "        vertical-align: middle;\n",
       "    }\n",
       "\n",
       "    .dataframe tbody tr th {\n",
       "        vertical-align: top;\n",
       "    }\n",
       "\n",
       "    .dataframe thead th {\n",
       "        text-align: right;\n",
       "    }\n",
       "</style>\n",
       "<table border=\"1\" class=\"dataframe\">\n",
       "  <thead>\n",
       "    <tr style=\"text-align: right;\">\n",
       "      <th></th>\n",
       "      <th>avg_age</th>\n",
       "    </tr>\n",
       "  </thead>\n",
       "  <tbody>\n",
       "    <tr>\n",
       "      <th>0</th>\n",
       "      <td>5.23</td>\n",
       "    </tr>\n",
       "  </tbody>\n",
       "</table>\n",
       "</div>"
      ],
      "text/plain": [
       "   avg_age\n",
       "0     5.23"
      ]
     },
     "execution_count": 5,
     "metadata": {},
     "output_type": "execute_result"
    }
   ],
   "source": [
    "sql = '''\n",
    "SELECT ROUND(AVG(age),2) AS \"avg_age\"\n",
    "FROM pets;\n",
    "'''\n",
    "pd.read_sql_query(sql, con)"
   ]
  },
  {
   "cell_type": "markdown",
   "id": "e1f55884",
   "metadata": {},
   "source": [
    "36) What's the mean age of dogs in the pets table?"
   ]
  },
  {
   "cell_type": "code",
   "execution_count": 6,
   "id": "762e9e4e",
   "metadata": {},
   "outputs": [
    {
     "data": {
      "text/html": [
       "<div>\n",
       "<style scoped>\n",
       "    .dataframe tbody tr th:only-of-type {\n",
       "        vertical-align: middle;\n",
       "    }\n",
       "\n",
       "    .dataframe tbody tr th {\n",
       "        vertical-align: top;\n",
       "    }\n",
       "\n",
       "    .dataframe thead th {\n",
       "        text-align: right;\n",
       "    }\n",
       "</style>\n",
       "<table border=\"1\" class=\"dataframe\">\n",
       "  <thead>\n",
       "    <tr style=\"text-align: right;\">\n",
       "      <th></th>\n",
       "      <th>avg_dog_age</th>\n",
       "    </tr>\n",
       "  </thead>\n",
       "  <tbody>\n",
       "    <tr>\n",
       "      <th>0</th>\n",
       "      <td>6.5</td>\n",
       "    </tr>\n",
       "  </tbody>\n",
       "</table>\n",
       "</div>"
      ],
      "text/plain": [
       "   avg_dog_age\n",
       "0          6.5"
      ]
     },
     "execution_count": 6,
     "metadata": {},
     "output_type": "execute_result"
    }
   ],
   "source": [
    "sql = '''\n",
    "SELECT ROUND(AVG(age),2) AS \"avg_dog_age\"\n",
    "FROM pets\n",
    "WHERE species = 'dog';\n",
    "'''\n",
    "pd.read_sql_query(sql, con)"
   ]
  },
  {
   "cell_type": "markdown",
   "id": "362a1ebc",
   "metadata": {},
   "source": [
    "37) What's the mean age of male dogs in the pets table?"
   ]
  },
  {
   "cell_type": "code",
   "execution_count": 7,
   "id": "4ddde855",
   "metadata": {},
   "outputs": [
    {
     "data": {
      "text/html": [
       "<div>\n",
       "<style scoped>\n",
       "    .dataframe tbody tr th:only-of-type {\n",
       "        vertical-align: middle;\n",
       "    }\n",
       "\n",
       "    .dataframe tbody tr th {\n",
       "        vertical-align: top;\n",
       "    }\n",
       "\n",
       "    .dataframe thead th {\n",
       "        text-align: right;\n",
       "    }\n",
       "</style>\n",
       "<table border=\"1\" class=\"dataframe\">\n",
       "  <thead>\n",
       "    <tr style=\"text-align: right;\">\n",
       "      <th></th>\n",
       "      <th>avg_maledog_age</th>\n",
       "    </tr>\n",
       "  </thead>\n",
       "  <tbody>\n",
       "    <tr>\n",
       "      <th>0</th>\n",
       "      <td>8.33</td>\n",
       "    </tr>\n",
       "  </tbody>\n",
       "</table>\n",
       "</div>"
      ],
      "text/plain": [
       "   avg_maledog_age\n",
       "0             8.33"
      ]
     },
     "execution_count": 7,
     "metadata": {},
     "output_type": "execute_result"
    }
   ],
   "source": [
    "sql = '''\n",
    "SELECT ROUND(AVG(age),2) AS \"avg_maledog_age\"\n",
    "FROM pets\n",
    "WHERE species = 'dog' AND sex = 'M';\n",
    "'''\n",
    "pd.read_sql_query(sql, con)"
   ]
  },
  {
   "cell_type": "markdown",
   "id": "23d48603",
   "metadata": {},
   "source": [
    "38) What's the count, mean, minimum, and maximum of pet ages in the pets table? * NOTE: SQLite doesn't have built-in formulas for standard deviation or median!"
   ]
  },
  {
   "cell_type": "code",
   "execution_count": 8,
   "id": "10125982",
   "metadata": {},
   "outputs": [
    {
     "data": {
      "text/html": [
       "<div>\n",
       "<style scoped>\n",
       "    .dataframe tbody tr th:only-of-type {\n",
       "        vertical-align: middle;\n",
       "    }\n",
       "\n",
       "    .dataframe tbody tr th {\n",
       "        vertical-align: top;\n",
       "    }\n",
       "\n",
       "    .dataframe thead th {\n",
       "        text-align: right;\n",
       "    }\n",
       "</style>\n",
       "<table border=\"1\" class=\"dataframe\">\n",
       "  <thead>\n",
       "    <tr style=\"text-align: right;\">\n",
       "      <th></th>\n",
       "      <th>age_count</th>\n",
       "      <th>avg_age</th>\n",
       "      <th>min_age</th>\n",
       "      <th>max_age</th>\n",
       "    </tr>\n",
       "  </thead>\n",
       "  <tbody>\n",
       "    <tr>\n",
       "      <th>0</th>\n",
       "      <td>13</td>\n",
       "      <td>5.23</td>\n",
       "      <td>1</td>\n",
       "      <td>10</td>\n",
       "    </tr>\n",
       "  </tbody>\n",
       "</table>\n",
       "</div>"
      ],
      "text/plain": [
       "   age_count  avg_age  min_age  max_age\n",
       "0         13     5.23        1       10"
      ]
     },
     "execution_count": 8,
     "metadata": {},
     "output_type": "execute_result"
    }
   ],
   "source": [
    "sql = '''\n",
    "SELECT COUNT(age) as \"age_count\", ROUND(AVG(age),2) as \"avg_age\",\\\n",
    "MIN(age) AS \"min_age\", MAX(age) AS max_age\n",
    "FROM pets;\n",
    "'''\n",
    "pd.read_sql_query(sql, con)"
   ]
  },
  {
   "cell_type": "markdown",
   "id": "258b9898",
   "metadata": {},
   "source": [
    "39) Repeat the previous problem with the following stipulations: * Round the average to one decimal place. * Give each column a human-readable column name (for example, \"Average Age\")"
   ]
  },
  {
   "cell_type": "code",
   "execution_count": 9,
   "id": "bc2312b4",
   "metadata": {},
   "outputs": [
    {
     "data": {
      "text/html": [
       "<div>\n",
       "<style scoped>\n",
       "    .dataframe tbody tr th:only-of-type {\n",
       "        vertical-align: middle;\n",
       "    }\n",
       "\n",
       "    .dataframe tbody tr th {\n",
       "        vertical-align: top;\n",
       "    }\n",
       "\n",
       "    .dataframe thead th {\n",
       "        text-align: right;\n",
       "    }\n",
       "</style>\n",
       "<table border=\"1\" class=\"dataframe\">\n",
       "  <thead>\n",
       "    <tr style=\"text-align: right;\">\n",
       "      <th></th>\n",
       "      <th>age_count</th>\n",
       "      <th>avg_age</th>\n",
       "      <th>min_age</th>\n",
       "      <th>max_age</th>\n",
       "    </tr>\n",
       "  </thead>\n",
       "  <tbody>\n",
       "    <tr>\n",
       "      <th>0</th>\n",
       "      <td>13</td>\n",
       "      <td>5.2</td>\n",
       "      <td>1</td>\n",
       "      <td>10</td>\n",
       "    </tr>\n",
       "  </tbody>\n",
       "</table>\n",
       "</div>"
      ],
      "text/plain": [
       "   age_count  avg_age  min_age  max_age\n",
       "0         13      5.2        1       10"
      ]
     },
     "execution_count": 9,
     "metadata": {},
     "output_type": "execute_result"
    }
   ],
   "source": [
    "sql = '''\n",
    "SELECT COUNT(age) as \"age_count\", ROUND(AVG(age),1) as \"avg_age\",\\\n",
    "MIN(age) AS \"min_age\", MAX(age) AS max_age\n",
    "FROM pets;\n",
    "'''\n",
    "pd.read_sql_query(sql, con)"
   ]
  },
  {
   "cell_type": "markdown",
   "id": "e59e8df0",
   "metadata": {},
   "source": [
    "40) How many rows in employees_null have missing salaries?"
   ]
  },
  {
   "cell_type": "code",
   "execution_count": 10,
   "id": "91facc73",
   "metadata": {},
   "outputs": [
    {
     "data": {
      "text/html": [
       "<div>\n",
       "<style scoped>\n",
       "    .dataframe tbody tr th:only-of-type {\n",
       "        vertical-align: middle;\n",
       "    }\n",
       "\n",
       "    .dataframe tbody tr th {\n",
       "        vertical-align: top;\n",
       "    }\n",
       "\n",
       "    .dataframe thead th {\n",
       "        text-align: right;\n",
       "    }\n",
       "</style>\n",
       "<table border=\"1\" class=\"dataframe\">\n",
       "  <thead>\n",
       "    <tr style=\"text-align: right;\">\n",
       "      <th></th>\n",
       "      <th>missing_salaries</th>\n",
       "    </tr>\n",
       "  </thead>\n",
       "  <tbody>\n",
       "    <tr>\n",
       "      <th>0</th>\n",
       "      <td>10</td>\n",
       "    </tr>\n",
       "  </tbody>\n",
       "</table>\n",
       "</div>"
      ],
      "text/plain": [
       "   missing_salaries\n",
       "0                10"
      ]
     },
     "execution_count": 10,
     "metadata": {},
     "output_type": "execute_result"
    }
   ],
   "source": [
    "sql = '''\n",
    "\n",
    "SELECT COUNT(*) AS missing_salaries\n",
    "FROM employees_null\n",
    "WHERE salary IS NULL;\n",
    "\n",
    "'''\n",
    "pd.read_sql_query(sql, con)"
   ]
  },
  {
   "cell_type": "markdown",
   "id": "fbad3b1d",
   "metadata": {},
   "source": [
    "41) How many salespeople in employees_null having nonmissing salaries? "
   ]
  },
  {
   "cell_type": "code",
   "execution_count": 11,
   "id": "d870735f",
   "metadata": {},
   "outputs": [
    {
     "data": {
      "text/html": [
       "<div>\n",
       "<style scoped>\n",
       "    .dataframe tbody tr th:only-of-type {\n",
       "        vertical-align: middle;\n",
       "    }\n",
       "\n",
       "    .dataframe tbody tr th {\n",
       "        vertical-align: top;\n",
       "    }\n",
       "\n",
       "    .dataframe thead th {\n",
       "        text-align: right;\n",
       "    }\n",
       "</style>\n",
       "<table border=\"1\" class=\"dataframe\">\n",
       "  <thead>\n",
       "    <tr style=\"text-align: right;\">\n",
       "      <th></th>\n",
       "      <th>non_missing_salaries</th>\n",
       "    </tr>\n",
       "  </thead>\n",
       "  <tbody>\n",
       "    <tr>\n",
       "      <th>0</th>\n",
       "      <td>60</td>\n",
       "    </tr>\n",
       "  </tbody>\n",
       "</table>\n",
       "</div>"
      ],
      "text/plain": [
       "   non_missing_salaries\n",
       "0                    60"
      ]
     },
     "execution_count": 11,
     "metadata": {},
     "output_type": "execute_result"
    }
   ],
   "source": [
    "sql = '''\n",
    "\n",
    "SELECT COUNT(*) AS non_missing_salaries\n",
    "FROM employees_null\n",
    "WHERE salary IS NOT NULL AND job = 'Sales';\n",
    "\n",
    "'''\n",
    "pd.read_sql_query(sql, con)"
   ]
  },
  {
   "cell_type": "markdown",
   "id": "e0d7955c",
   "metadata": {},
   "source": [
    "42) What's the mean salary of employees who joined the company after 2010? Go back to the usual employees table for this one. * Hint: You may need to use the CAST() function for this. To cast a string as a float, you can do CAST(x AS REAL)"
   ]
  },
  {
   "cell_type": "code",
   "execution_count": 12,
   "id": "e6c26ca2",
   "metadata": {},
   "outputs": [
    {
     "data": {
      "text/html": [
       "<div>\n",
       "<style scoped>\n",
       "    .dataframe tbody tr th:only-of-type {\n",
       "        vertical-align: middle;\n",
       "    }\n",
       "\n",
       "    .dataframe tbody tr th {\n",
       "        vertical-align: top;\n",
       "    }\n",
       "\n",
       "    .dataframe thead th {\n",
       "        text-align: right;\n",
       "    }\n",
       "</style>\n",
       "<table border=\"1\" class=\"dataframe\">\n",
       "  <thead>\n",
       "    <tr style=\"text-align: right;\">\n",
       "      <th></th>\n",
       "      <th>avg_salary</th>\n",
       "    </tr>\n",
       "  </thead>\n",
       "  <tbody>\n",
       "    <tr>\n",
       "      <th>0</th>\n",
       "      <td>78554.088235</td>\n",
       "    </tr>\n",
       "  </tbody>\n",
       "</table>\n",
       "</div>"
      ],
      "text/plain": [
       "     avg_salary\n",
       "0  78554.088235"
      ]
     },
     "execution_count": 12,
     "metadata": {},
     "output_type": "execute_result"
    }
   ],
   "source": [
    "sql = \"\"\"\n",
    "\n",
    "SELECT AVG(salary) as \"avg_salary\"\n",
    "FROM employees\n",
    "WHERE CAST(startdate AS REAL) > \"2010\";\n",
    "\n",
    "\"\"\"\n",
    "\n",
    "pd.read_sql_query(sql, con)"
   ]
  },
  {
   "cell_type": "markdown",
   "id": "0d2dcba9",
   "metadata": {},
   "source": [
    "43) What's the mean salary of employees in Swiss Francs? * Hint: Swiss Francs are abbreviated \"CHF\" and 1 USD = 0.97 CHF."
   ]
  },
  {
   "cell_type": "code",
   "execution_count": 13,
   "id": "ff06121f",
   "metadata": {},
   "outputs": [
    {
     "data": {
      "text/html": [
       "<div>\n",
       "<style scoped>\n",
       "    .dataframe tbody tr th:only-of-type {\n",
       "        vertical-align: middle;\n",
       "    }\n",
       "\n",
       "    .dataframe tbody tr th {\n",
       "        vertical-align: top;\n",
       "    }\n",
       "\n",
       "    .dataframe thead th {\n",
       "        text-align: right;\n",
       "    }\n",
       "</style>\n",
       "<table border=\"1\" class=\"dataframe\">\n",
       "  <thead>\n",
       "    <tr style=\"text-align: right;\">\n",
       "      <th></th>\n",
       "      <th>mean_salary_chf</th>\n",
       "    </tr>\n",
       "  </thead>\n",
       "  <tbody>\n",
       "    <tr>\n",
       "      <th>0</th>\n",
       "      <td>75727.56</td>\n",
       "    </tr>\n",
       "  </tbody>\n",
       "</table>\n",
       "</div>"
      ],
      "text/plain": [
       "   mean_salary_chf\n",
       "0         75727.56"
      ]
     },
     "execution_count": 13,
     "metadata": {},
     "output_type": "execute_result"
    }
   ],
   "source": [
    "sql = \"\"\"\n",
    "\n",
    "SELECT ROUND(AVG(salary * 0.97),2) AS \"mean_salary_chf\"\n",
    "FROM employees;\n",
    "\n",
    "\"\"\"\n",
    "\n",
    "pd.read_sql_query(sql, con)"
   ]
  },
  {
   "cell_type": "markdown",
   "id": "da66c2d9",
   "metadata": {},
   "source": [
    "44) Create a query that computes the mean salary in USD as well as CHF. Give the columns human-readable names (for example \"Mean Salary in USD\"). Also, format them with comma delimiters and currency symbols. * NOTE: Comma-delimiting numbers is only available for integers in SQLite, so rounding (down) to the nearest dollar or franc will be done for us. * NOTE2: The symbols for francs is simply Fr. or fr.. So an example output will look like 100,000 Fr.."
   ]
  },
  {
   "cell_type": "code",
   "execution_count": 14,
   "id": "ded936eb",
   "metadata": {},
   "outputs": [
    {
     "data": {
      "text/html": [
       "<div>\n",
       "<style scoped>\n",
       "    .dataframe tbody tr th:only-of-type {\n",
       "        vertical-align: middle;\n",
       "    }\n",
       "\n",
       "    .dataframe tbody tr th {\n",
       "        vertical-align: top;\n",
       "    }\n",
       "\n",
       "    .dataframe thead th {\n",
       "        text-align: right;\n",
       "    }\n",
       "</style>\n",
       "<table border=\"1\" class=\"dataframe\">\n",
       "  <thead>\n",
       "    <tr style=\"text-align: right;\">\n",
       "      <th></th>\n",
       "      <th>mean_salary_chf</th>\n",
       "      <th>mean_salary_usd</th>\n",
       "    </tr>\n",
       "  </thead>\n",
       "  <tbody>\n",
       "    <tr>\n",
       "      <th>0</th>\n",
       "      <td>75,728 Fr</td>\n",
       "      <td>$78,070</td>\n",
       "    </tr>\n",
       "  </tbody>\n",
       "</table>\n",
       "</div>"
      ],
      "text/plain": [
       "  mean_salary_chf mean_salary_usd\n",
       "0       75,728 Fr         $78,070"
      ]
     },
     "execution_count": 14,
     "metadata": {},
     "output_type": "execute_result"
    }
   ],
   "source": [
    "sql = \"\"\"\n",
    "\n",
    "SELECT FORMAT(\"%,d\" ,ROUND(AVG(salary *0.97))) || \" Fr\" AS \"mean_salary_chf\",\n",
    "FORMAT(\"$%,d\", ROUND(AVG(salary))) AS \"mean_salary_usd\"\n",
    "FROM employees;\n",
    "\n",
    "\"\"\"\n",
    "\n",
    "pd.read_sql_query(sql, con)"
   ]
  },
  {
   "cell_type": "markdown",
   "id": "185ac2cd",
   "metadata": {},
   "source": [
    "45) What is the average age of pets by species? "
   ]
  },
  {
   "cell_type": "code",
   "execution_count": 15,
   "id": "ac602377",
   "metadata": {},
   "outputs": [
    {
     "data": {
      "text/html": [
       "<div>\n",
       "<style scoped>\n",
       "    .dataframe tbody tr th:only-of-type {\n",
       "        vertical-align: middle;\n",
       "    }\n",
       "\n",
       "    .dataframe tbody tr th {\n",
       "        vertical-align: top;\n",
       "    }\n",
       "\n",
       "    .dataframe thead th {\n",
       "        text-align: right;\n",
       "    }\n",
       "</style>\n",
       "<table border=\"1\" class=\"dataframe\">\n",
       "  <thead>\n",
       "    <tr style=\"text-align: right;\">\n",
       "      <th></th>\n",
       "      <th>avg_age</th>\n",
       "    </tr>\n",
       "  </thead>\n",
       "  <tbody>\n",
       "    <tr>\n",
       "      <th>0</th>\n",
       "      <td>4.33</td>\n",
       "    </tr>\n",
       "    <tr>\n",
       "      <th>1</th>\n",
       "      <td>6.50</td>\n",
       "    </tr>\n",
       "    <tr>\n",
       "      <th>2</th>\n",
       "      <td>3.00</td>\n",
       "    </tr>\n",
       "  </tbody>\n",
       "</table>\n",
       "</div>"
      ],
      "text/plain": [
       "   avg_age\n",
       "0     4.33\n",
       "1     6.50\n",
       "2     3.00"
      ]
     },
     "execution_count": 15,
     "metadata": {},
     "output_type": "execute_result"
    }
   ],
   "source": [
    "sql = '''\n",
    "SELECT ROUND(AVG(age),2) as \"avg_age\"\n",
    "FROM pets\n",
    "GROUP BY species;\n",
    "\n",
    "'''\n",
    "pd.read_sql_query(sql, con)"
   ]
  },
  {
   "cell_type": "markdown",
   "id": "fadb495f",
   "metadata": {},
   "source": [
    "46) Repeat the previous problem but make sure the species label is also displayed! Assume this behavior is always being asked of you any time you use GROUP BY."
   ]
  },
  {
   "cell_type": "code",
   "execution_count": 16,
   "id": "3c450171",
   "metadata": {},
   "outputs": [
    {
     "data": {
      "text/html": [
       "<div>\n",
       "<style scoped>\n",
       "    .dataframe tbody tr th:only-of-type {\n",
       "        vertical-align: middle;\n",
       "    }\n",
       "\n",
       "    .dataframe tbody tr th {\n",
       "        vertical-align: top;\n",
       "    }\n",
       "\n",
       "    .dataframe thead th {\n",
       "        text-align: right;\n",
       "    }\n",
       "</style>\n",
       "<table border=\"1\" class=\"dataframe\">\n",
       "  <thead>\n",
       "    <tr style=\"text-align: right;\">\n",
       "      <th></th>\n",
       "      <th>species</th>\n",
       "      <th>avg_age</th>\n",
       "    </tr>\n",
       "  </thead>\n",
       "  <tbody>\n",
       "    <tr>\n",
       "      <th>0</th>\n",
       "      <td>cat</td>\n",
       "      <td>4.33</td>\n",
       "    </tr>\n",
       "    <tr>\n",
       "      <th>1</th>\n",
       "      <td>dog</td>\n",
       "      <td>6.50</td>\n",
       "    </tr>\n",
       "    <tr>\n",
       "      <th>2</th>\n",
       "      <td>lobster</td>\n",
       "      <td>3.00</td>\n",
       "    </tr>\n",
       "  </tbody>\n",
       "</table>\n",
       "</div>"
      ],
      "text/plain": [
       "   species  avg_age\n",
       "0      cat     4.33\n",
       "1      dog     6.50\n",
       "2  lobster     3.00"
      ]
     },
     "execution_count": 16,
     "metadata": {},
     "output_type": "execute_result"
    }
   ],
   "source": [
    "sql = '''\n",
    "SELECT species, ROUND(AVG(age),2) as \"avg_age\"\n",
    "FROM pets\n",
    "GROUP BY species;\n",
    "\n",
    "'''\n",
    "pd.read_sql_query(sql, con)"
   ]
  },
  {
   "cell_type": "markdown",
   "id": "21872262",
   "metadata": {},
   "source": [
    "47) What is the count, mean, minimum, and maximum age by species in pets"
   ]
  },
  {
   "cell_type": "code",
   "execution_count": 17,
   "id": "827d7899",
   "metadata": {},
   "outputs": [
    {
     "data": {
      "text/html": [
       "<div>\n",
       "<style scoped>\n",
       "    .dataframe tbody tr th:only-of-type {\n",
       "        vertical-align: middle;\n",
       "    }\n",
       "\n",
       "    .dataframe tbody tr th {\n",
       "        vertical-align: top;\n",
       "    }\n",
       "\n",
       "    .dataframe thead th {\n",
       "        text-align: right;\n",
       "    }\n",
       "</style>\n",
       "<table border=\"1\" class=\"dataframe\">\n",
       "  <thead>\n",
       "    <tr style=\"text-align: right;\">\n",
       "      <th></th>\n",
       "      <th>species</th>\n",
       "      <th>avg_age</th>\n",
       "      <th>age_count</th>\n",
       "      <th>min_age</th>\n",
       "      <th>max_age</th>\n",
       "    </tr>\n",
       "  </thead>\n",
       "  <tbody>\n",
       "    <tr>\n",
       "      <th>0</th>\n",
       "      <td>cat</td>\n",
       "      <td>4.33</td>\n",
       "      <td>6</td>\n",
       "      <td>2</td>\n",
       "      <td>7</td>\n",
       "    </tr>\n",
       "    <tr>\n",
       "      <th>1</th>\n",
       "      <td>dog</td>\n",
       "      <td>6.50</td>\n",
       "      <td>6</td>\n",
       "      <td>1</td>\n",
       "      <td>10</td>\n",
       "    </tr>\n",
       "    <tr>\n",
       "      <th>2</th>\n",
       "      <td>lobster</td>\n",
       "      <td>3.00</td>\n",
       "      <td>1</td>\n",
       "      <td>3</td>\n",
       "      <td>3</td>\n",
       "    </tr>\n",
       "  </tbody>\n",
       "</table>\n",
       "</div>"
      ],
      "text/plain": [
       "   species  avg_age  age_count  min_age  max_age\n",
       "0      cat     4.33          6        2        7\n",
       "1      dog     6.50          6        1       10\n",
       "2  lobster     3.00          1        3        3"
      ]
     },
     "execution_count": 17,
     "metadata": {},
     "output_type": "execute_result"
    }
   ],
   "source": [
    "sql = '''\n",
    "SELECT species, ROUND(AVG(age),2) as \"avg_age\", \n",
    "COUNT(age) AS \"age_count\",\n",
    "MIN(age) AS \"min_age\",\n",
    "MAX(age) AS \"max_age\"\n",
    "FROM pets\n",
    "GROUP BY species;\n",
    "\n",
    "'''\n",
    "pd.read_sql_query(sql, con)"
   ]
  },
  {
   "cell_type": "markdown",
   "id": "7c829f2e",
   "metadata": {},
   "source": [
    "48) Show the mean salaries of each job title in employees"
   ]
  },
  {
   "cell_type": "code",
   "execution_count": 18,
   "id": "22bd022c",
   "metadata": {},
   "outputs": [
    {
     "data": {
      "text/html": [
       "<div>\n",
       "<style scoped>\n",
       "    .dataframe tbody tr th:only-of-type {\n",
       "        vertical-align: middle;\n",
       "    }\n",
       "\n",
       "    .dataframe tbody tr th {\n",
       "        vertical-align: top;\n",
       "    }\n",
       "\n",
       "    .dataframe thead th {\n",
       "        text-align: right;\n",
       "    }\n",
       "</style>\n",
       "<table border=\"1\" class=\"dataframe\">\n",
       "  <thead>\n",
       "    <tr style=\"text-align: right;\">\n",
       "      <th></th>\n",
       "      <th>job</th>\n",
       "      <th>avg_salary</th>\n",
       "    </tr>\n",
       "  </thead>\n",
       "  <tbody>\n",
       "    <tr>\n",
       "      <th>0</th>\n",
       "      <td>Administrator</td>\n",
       "      <td>71986.14</td>\n",
       "    </tr>\n",
       "    <tr>\n",
       "      <th>1</th>\n",
       "      <td>IT</td>\n",
       "      <td>71381.00</td>\n",
       "    </tr>\n",
       "    <tr>\n",
       "      <th>2</th>\n",
       "      <td>Operations</td>\n",
       "      <td>74055.25</td>\n",
       "    </tr>\n",
       "    <tr>\n",
       "      <th>3</th>\n",
       "      <td>Sales</td>\n",
       "      <td>80778.04</td>\n",
       "    </tr>\n",
       "  </tbody>\n",
       "</table>\n",
       "</div>"
      ],
      "text/plain": [
       "             job  avg_salary\n",
       "0  Administrator    71986.14\n",
       "1             IT    71381.00\n",
       "2     Operations    74055.25\n",
       "3          Sales    80778.04"
      ]
     },
     "execution_count": 18,
     "metadata": {},
     "output_type": "execute_result"
    }
   ],
   "source": [
    "sql = '''\n",
    "SELECT job, ROUND(AVG(salary),2) as \"avg_salary\"\n",
    "FROM employees\n",
    "GROUP BY job;\n",
    "\n",
    "'''\n",
    "pd.read_sql_query(sql, con)"
   ]
  },
  {
   "cell_type": "markdown",
   "id": "08b1aad5",
   "metadata": {},
   "source": [
    "49) Show the mean salaries in New Zealand dollars of each job title in employees. * NOTE: 1 USD = 1.65 NZD"
   ]
  },
  {
   "cell_type": "code",
   "execution_count": 19,
   "id": "01a4b328",
   "metadata": {},
   "outputs": [
    {
     "data": {
      "text/html": [
       "<div>\n",
       "<style scoped>\n",
       "    .dataframe tbody tr th:only-of-type {\n",
       "        vertical-align: middle;\n",
       "    }\n",
       "\n",
       "    .dataframe tbody tr th {\n",
       "        vertical-align: top;\n",
       "    }\n",
       "\n",
       "    .dataframe thead th {\n",
       "        text-align: right;\n",
       "    }\n",
       "</style>\n",
       "<table border=\"1\" class=\"dataframe\">\n",
       "  <thead>\n",
       "    <tr style=\"text-align: right;\">\n",
       "      <th></th>\n",
       "      <th>job</th>\n",
       "      <th>avg_salary_NZD</th>\n",
       "    </tr>\n",
       "  </thead>\n",
       "  <tbody>\n",
       "    <tr>\n",
       "      <th>0</th>\n",
       "      <td>Administrator</td>\n",
       "      <td>118777.14</td>\n",
       "    </tr>\n",
       "    <tr>\n",
       "      <th>1</th>\n",
       "      <td>IT</td>\n",
       "      <td>117778.65</td>\n",
       "    </tr>\n",
       "    <tr>\n",
       "      <th>2</th>\n",
       "      <td>Operations</td>\n",
       "      <td>122191.16</td>\n",
       "    </tr>\n",
       "    <tr>\n",
       "      <th>3</th>\n",
       "      <td>Sales</td>\n",
       "      <td>133283.77</td>\n",
       "    </tr>\n",
       "  </tbody>\n",
       "</table>\n",
       "</div>"
      ],
      "text/plain": [
       "             job  avg_salary_NZD\n",
       "0  Administrator       118777.14\n",
       "1             IT       117778.65\n",
       "2     Operations       122191.16\n",
       "3          Sales       133283.77"
      ]
     },
     "execution_count": 19,
     "metadata": {},
     "output_type": "execute_result"
    }
   ],
   "source": [
    "sql = '''\n",
    "SELECT job, ROUND(AVG(salary *1.65),2) as \"avg_salary_NZD\"\n",
    "FROM employees\n",
    "GROUP BY job;\n",
    "\n",
    "'''\n",
    "pd.read_sql_query(sql, con)"
   ]
  },
  {
   "cell_type": "markdown",
   "id": "6328c5a6",
   "metadata": {},
   "source": [
    "50) Show the mean, min, and max salaries of each job title in employees, as well as the numbers of employees in each category. "
   ]
  },
  {
   "cell_type": "code",
   "execution_count": 20,
   "id": "9c6cd97a",
   "metadata": {},
   "outputs": [
    {
     "data": {
      "text/html": [
       "<div>\n",
       "<style scoped>\n",
       "    .dataframe tbody tr th:only-of-type {\n",
       "        vertical-align: middle;\n",
       "    }\n",
       "\n",
       "    .dataframe tbody tr th {\n",
       "        vertical-align: top;\n",
       "    }\n",
       "\n",
       "    .dataframe thead th {\n",
       "        text-align: right;\n",
       "    }\n",
       "</style>\n",
       "<table border=\"1\" class=\"dataframe\">\n",
       "  <thead>\n",
       "    <tr style=\"text-align: right;\">\n",
       "      <th></th>\n",
       "      <th>job</th>\n",
       "      <th>Num_of_Emps</th>\n",
       "      <th>Avg_Salary</th>\n",
       "      <th>Min_Salary</th>\n",
       "      <th>Max_Salary</th>\n",
       "    </tr>\n",
       "  </thead>\n",
       "  <tbody>\n",
       "    <tr>\n",
       "      <th>0</th>\n",
       "      <td>Administrator</td>\n",
       "      <td>14</td>\n",
       "      <td>71986.14</td>\n",
       "      <td>41151</td>\n",
       "      <td>120492</td>\n",
       "    </tr>\n",
       "    <tr>\n",
       "      <th>1</th>\n",
       "      <td>IT</td>\n",
       "      <td>10</td>\n",
       "      <td>71381.00</td>\n",
       "      <td>37397</td>\n",
       "      <td>115729</td>\n",
       "    </tr>\n",
       "    <tr>\n",
       "      <th>2</th>\n",
       "      <td>Operations</td>\n",
       "      <td>8</td>\n",
       "      <td>74055.25</td>\n",
       "      <td>41797</td>\n",
       "      <td>108989</td>\n",
       "    </tr>\n",
       "    <tr>\n",
       "      <th>3</th>\n",
       "      <td>Sales</td>\n",
       "      <td>68</td>\n",
       "      <td>80778.04</td>\n",
       "      <td>31333</td>\n",
       "      <td>124474</td>\n",
       "    </tr>\n",
       "  </tbody>\n",
       "</table>\n",
       "</div>"
      ],
      "text/plain": [
       "             job  Num_of_Emps  Avg_Salary  Min_Salary  Max_Salary\n",
       "0  Administrator           14    71986.14       41151      120492\n",
       "1             IT           10    71381.00       37397      115729\n",
       "2     Operations            8    74055.25       41797      108989\n",
       "3          Sales           68    80778.04       31333      124474"
      ]
     },
     "execution_count": 20,
     "metadata": {},
     "output_type": "execute_result"
    }
   ],
   "source": [
    "sql = '''\n",
    "SELECT job, COUNT(*) AS \"Num_of_Emps\",\n",
    "ROUND(AVG(salary),2) AS \"Avg_Salary\",\n",
    "MIN(salary) AS \"Min_Salary\",\n",
    "MAX(salary) AS \"Max_Salary\"\n",
    "FROM employees\n",
    "GROUP BY job;\n",
    "\n",
    "'''\n",
    "pd.read_sql_query(sql, con)"
   ]
  },
  {
   "cell_type": "markdown",
   "id": "343a9fec",
   "metadata": {},
   "source": [
    "51) Show the mean salaries of each job title in employees sorted descending by salary."
   ]
  },
  {
   "cell_type": "code",
   "execution_count": 21,
   "id": "45e83c32",
   "metadata": {},
   "outputs": [
    {
     "data": {
      "text/html": [
       "<div>\n",
       "<style scoped>\n",
       "    .dataframe tbody tr th:only-of-type {\n",
       "        vertical-align: middle;\n",
       "    }\n",
       "\n",
       "    .dataframe tbody tr th {\n",
       "        vertical-align: top;\n",
       "    }\n",
       "\n",
       "    .dataframe thead th {\n",
       "        text-align: right;\n",
       "    }\n",
       "</style>\n",
       "<table border=\"1\" class=\"dataframe\">\n",
       "  <thead>\n",
       "    <tr style=\"text-align: right;\">\n",
       "      <th></th>\n",
       "      <th>job</th>\n",
       "      <th>avg_salary</th>\n",
       "    </tr>\n",
       "  </thead>\n",
       "  <tbody>\n",
       "    <tr>\n",
       "      <th>0</th>\n",
       "      <td>Sales</td>\n",
       "      <td>80778.04</td>\n",
       "    </tr>\n",
       "    <tr>\n",
       "      <th>1</th>\n",
       "      <td>IT</td>\n",
       "      <td>71381.00</td>\n",
       "    </tr>\n",
       "    <tr>\n",
       "      <th>2</th>\n",
       "      <td>Operations</td>\n",
       "      <td>74055.25</td>\n",
       "    </tr>\n",
       "    <tr>\n",
       "      <th>3</th>\n",
       "      <td>Administrator</td>\n",
       "      <td>71986.14</td>\n",
       "    </tr>\n",
       "  </tbody>\n",
       "</table>\n",
       "</div>"
      ],
      "text/plain": [
       "             job  avg_salary\n",
       "0          Sales    80778.04\n",
       "1             IT    71381.00\n",
       "2     Operations    74055.25\n",
       "3  Administrator    71986.14"
      ]
     },
     "execution_count": 21,
     "metadata": {},
     "output_type": "execute_result"
    }
   ],
   "source": [
    "sql = '''\n",
    "SELECT job, ROUND(AVG(salary),2) as \"avg_salary\"\n",
    "FROM employees\n",
    "GROUP BY job\n",
    "ORDER BY salary DESC;\n",
    "\n",
    "'''\n",
    "pd.read_sql_query(sql, con)"
   ]
  },
  {
   "cell_type": "markdown",
   "id": "5057b79a",
   "metadata": {},
   "source": [
    "52) What are the top 5 most common first names among employees"
   ]
  },
  {
   "cell_type": "code",
   "execution_count": 22,
   "id": "507de1c5",
   "metadata": {},
   "outputs": [
    {
     "data": {
      "text/html": [
       "<div>\n",
       "<style scoped>\n",
       "    .dataframe tbody tr th:only-of-type {\n",
       "        vertical-align: middle;\n",
       "    }\n",
       "\n",
       "    .dataframe tbody tr th {\n",
       "        vertical-align: top;\n",
       "    }\n",
       "\n",
       "    .dataframe thead th {\n",
       "        text-align: right;\n",
       "    }\n",
       "</style>\n",
       "<table border=\"1\" class=\"dataframe\">\n",
       "  <thead>\n",
       "    <tr style=\"text-align: right;\">\n",
       "      <th></th>\n",
       "      <th>name_count</th>\n",
       "      <th>firstname</th>\n",
       "    </tr>\n",
       "  </thead>\n",
       "  <tbody>\n",
       "    <tr>\n",
       "      <th>0</th>\n",
       "      <td>3</td>\n",
       "      <td>Thomas</td>\n",
       "    </tr>\n",
       "    <tr>\n",
       "      <th>1</th>\n",
       "      <td>3</td>\n",
       "      <td>Robert</td>\n",
       "    </tr>\n",
       "    <tr>\n",
       "      <th>2</th>\n",
       "      <td>3</td>\n",
       "      <td>Michael</td>\n",
       "    </tr>\n",
       "    <tr>\n",
       "      <th>3</th>\n",
       "      <td>3</td>\n",
       "      <td>Lisa</td>\n",
       "    </tr>\n",
       "    <tr>\n",
       "      <th>4</th>\n",
       "      <td>2</td>\n",
       "      <td>William</td>\n",
       "    </tr>\n",
       "  </tbody>\n",
       "</table>\n",
       "</div>"
      ],
      "text/plain": [
       "   name_count firstname\n",
       "0           3    Thomas\n",
       "1           3    Robert\n",
       "2           3   Michael\n",
       "3           3      Lisa\n",
       "4           2   William"
      ]
     },
     "execution_count": 22,
     "metadata": {},
     "output_type": "execute_result"
    }
   ],
   "source": [
    "sql = '''\n",
    "SELECT COUNT(LOWER(firstname)) AS \"name_count\", firstname\n",
    "FROM employees\n",
    "GROUP BY firstname\n",
    "ORDER BY COUNT(firstname) DESC\n",
    "LIMIT 5;\n",
    "\n",
    "'''\n",
    "pd.read_sql_query(sql, con)"
   ]
  },
  {
   "cell_type": "markdown",
   "id": "0c8af14e",
   "metadata": {},
   "source": [
    " 53) Show all first names which have exactly 2 occurrences in employees."
   ]
  },
  {
   "cell_type": "code",
   "execution_count": 23,
   "id": "8a2fca5b",
   "metadata": {},
   "outputs": [
    {
     "data": {
      "text/html": [
       "<div>\n",
       "<style scoped>\n",
       "    .dataframe tbody tr th:only-of-type {\n",
       "        vertical-align: middle;\n",
       "    }\n",
       "\n",
       "    .dataframe tbody tr th {\n",
       "        vertical-align: top;\n",
       "    }\n",
       "\n",
       "    .dataframe thead th {\n",
       "        text-align: right;\n",
       "    }\n",
       "</style>\n",
       "<table border=\"1\" class=\"dataframe\">\n",
       "  <thead>\n",
       "    <tr style=\"text-align: right;\">\n",
       "      <th></th>\n",
       "      <th>name_count</th>\n",
       "      <th>firstname</th>\n",
       "    </tr>\n",
       "  </thead>\n",
       "  <tbody>\n",
       "    <tr>\n",
       "      <th>0</th>\n",
       "      <td>2</td>\n",
       "      <td>Christopher</td>\n",
       "    </tr>\n",
       "    <tr>\n",
       "      <th>1</th>\n",
       "      <td>2</td>\n",
       "      <td>Donald</td>\n",
       "    </tr>\n",
       "    <tr>\n",
       "      <th>2</th>\n",
       "      <td>2</td>\n",
       "      <td>Elizabeth</td>\n",
       "    </tr>\n",
       "    <tr>\n",
       "      <th>3</th>\n",
       "      <td>2</td>\n",
       "      <td>Jacob</td>\n",
       "    </tr>\n",
       "    <tr>\n",
       "      <th>4</th>\n",
       "      <td>2</td>\n",
       "      <td>Joseph</td>\n",
       "    </tr>\n",
       "    <tr>\n",
       "      <th>5</th>\n",
       "      <td>2</td>\n",
       "      <td>Leslie</td>\n",
       "    </tr>\n",
       "    <tr>\n",
       "      <th>6</th>\n",
       "      <td>2</td>\n",
       "      <td>Mark</td>\n",
       "    </tr>\n",
       "    <tr>\n",
       "      <th>7</th>\n",
       "      <td>2</td>\n",
       "      <td>Shannon</td>\n",
       "    </tr>\n",
       "    <tr>\n",
       "      <th>8</th>\n",
       "      <td>2</td>\n",
       "      <td>William</td>\n",
       "    </tr>\n",
       "  </tbody>\n",
       "</table>\n",
       "</div>"
      ],
      "text/plain": [
       "   name_count    firstname\n",
       "0           2  Christopher\n",
       "1           2       Donald\n",
       "2           2    Elizabeth\n",
       "3           2        Jacob\n",
       "4           2       Joseph\n",
       "5           2       Leslie\n",
       "6           2         Mark\n",
       "7           2      Shannon\n",
       "8           2      William"
      ]
     },
     "execution_count": 23,
     "metadata": {},
     "output_type": "execute_result"
    }
   ],
   "source": [
    "sql = '''\n",
    "SELECT COUNT(LOWER(firstname)) AS \"name_count\", firstname\n",
    "FROM employees\n",
    "GROUP BY firstname\n",
    "HAVING name_count = 2;\n",
    "\n",
    "'''\n",
    "pd.read_sql_query(sql, con)"
   ]
  },
  {
   "cell_type": "markdown",
   "id": "291d29ca",
   "metadata": {},
   "source": [
    "54) Take a look at the transactions table to get a idea of what it contains. Note that a transaction may span multiple rows if different items are purchased as part of the same order. The employee who made the order is also given by their ID."
   ]
  },
  {
   "cell_type": "code",
   "execution_count": 24,
   "id": "07a05412",
   "metadata": {},
   "outputs": [
    {
     "data": {
      "text/html": [
       "<div>\n",
       "<style scoped>\n",
       "    .dataframe tbody tr th:only-of-type {\n",
       "        vertical-align: middle;\n",
       "    }\n",
       "\n",
       "    .dataframe tbody tr th {\n",
       "        vertical-align: top;\n",
       "    }\n",
       "\n",
       "    .dataframe thead th {\n",
       "        text-align: right;\n",
       "    }\n",
       "</style>\n",
       "<table border=\"1\" class=\"dataframe\">\n",
       "  <thead>\n",
       "    <tr style=\"text-align: right;\">\n",
       "      <th></th>\n",
       "      <th>order_id</th>\n",
       "      <th>customer</th>\n",
       "      <th>unit_price</th>\n",
       "      <th>quantity</th>\n",
       "      <th>orderdate</th>\n",
       "      <th>employee_id</th>\n",
       "    </tr>\n",
       "  </thead>\n",
       "  <tbody>\n",
       "    <tr>\n",
       "      <th>0</th>\n",
       "      <td>0</td>\n",
       "      <td>Kent, Curtis and Williams</td>\n",
       "      <td>20.50</td>\n",
       "      <td>12</td>\n",
       "      <td>2010-05-30</td>\n",
       "      <td>81</td>\n",
       "    </tr>\n",
       "    <tr>\n",
       "      <th>1</th>\n",
       "      <td>0</td>\n",
       "      <td>Kent, Curtis and Williams</td>\n",
       "      <td>24.00</td>\n",
       "      <td>11</td>\n",
       "      <td>2010-05-30</td>\n",
       "      <td>81</td>\n",
       "    </tr>\n",
       "    <tr>\n",
       "      <th>2</th>\n",
       "      <td>0</td>\n",
       "      <td>Kent, Curtis and Williams</td>\n",
       "      <td>22.25</td>\n",
       "      <td>14</td>\n",
       "      <td>2010-05-30</td>\n",
       "      <td>81</td>\n",
       "    </tr>\n",
       "    <tr>\n",
       "      <th>3</th>\n",
       "      <td>0</td>\n",
       "      <td>Kent, Curtis and Williams</td>\n",
       "      <td>10.50</td>\n",
       "      <td>11</td>\n",
       "      <td>2010-05-30</td>\n",
       "      <td>81</td>\n",
       "    </tr>\n",
       "    <tr>\n",
       "      <th>4</th>\n",
       "      <td>0</td>\n",
       "      <td>Kent, Curtis and Williams</td>\n",
       "      <td>13.75</td>\n",
       "      <td>9</td>\n",
       "      <td>2010-05-30</td>\n",
       "      <td>81</td>\n",
       "    </tr>\n",
       "  </tbody>\n",
       "</table>\n",
       "</div>"
      ],
      "text/plain": [
       "   order_id                   customer  unit_price  quantity   orderdate  \\\n",
       "0         0  Kent, Curtis and Williams       20.50        12  2010-05-30   \n",
       "1         0  Kent, Curtis and Williams       24.00        11  2010-05-30   \n",
       "2         0  Kent, Curtis and Williams       22.25        14  2010-05-30   \n",
       "3         0  Kent, Curtis and Williams       10.50        11  2010-05-30   \n",
       "4         0  Kent, Curtis and Williams       13.75         9  2010-05-30   \n",
       "\n",
       "   employee_id  \n",
       "0           81  \n",
       "1           81  \n",
       "2           81  \n",
       "3           81  \n",
       "4           81  "
      ]
     },
     "execution_count": 24,
     "metadata": {},
     "output_type": "execute_result"
    }
   ],
   "source": [
    "sql = '''\n",
    "SELECT *\n",
    "FROM transactions\n",
    "LIMIT 5;\n",
    "'''\n",
    "pd.read_sql_query(sql, con)"
   ]
  },
  {
   "cell_type": "markdown",
   "id": "d42b179a",
   "metadata": {},
   "source": [
    "55) Show the top 5 largest orders (and their respective customer) in terms of the numbers of items purchased in that order."
   ]
  },
  {
   "cell_type": "code",
   "execution_count": 25,
   "id": "f93d7d80",
   "metadata": {},
   "outputs": [
    {
     "data": {
      "text/html": [
       "<div>\n",
       "<style scoped>\n",
       "    .dataframe tbody tr th:only-of-type {\n",
       "        vertical-align: middle;\n",
       "    }\n",
       "\n",
       "    .dataframe tbody tr th {\n",
       "        vertical-align: top;\n",
       "    }\n",
       "\n",
       "    .dataframe thead th {\n",
       "        text-align: right;\n",
       "    }\n",
       "</style>\n",
       "<table border=\"1\" class=\"dataframe\">\n",
       "  <thead>\n",
       "    <tr style=\"text-align: right;\">\n",
       "      <th></th>\n",
       "      <th>order_id</th>\n",
       "      <th>customer</th>\n",
       "      <th>quantity_sum</th>\n",
       "    </tr>\n",
       "  </thead>\n",
       "  <tbody>\n",
       "    <tr>\n",
       "      <th>0</th>\n",
       "      <td>2415</td>\n",
       "      <td>Lawrence-Rowland</td>\n",
       "      <td>163</td>\n",
       "    </tr>\n",
       "    <tr>\n",
       "      <th>1</th>\n",
       "      <td>4565</td>\n",
       "      <td>Stanton-Charles</td>\n",
       "      <td>155</td>\n",
       "    </tr>\n",
       "    <tr>\n",
       "      <th>2</th>\n",
       "      <td>6324</td>\n",
       "      <td>Watson-Harrell</td>\n",
       "      <td>149</td>\n",
       "    </tr>\n",
       "    <tr>\n",
       "      <th>3</th>\n",
       "      <td>5900</td>\n",
       "      <td>Estrada LLC</td>\n",
       "      <td>147</td>\n",
       "    </tr>\n",
       "    <tr>\n",
       "      <th>4</th>\n",
       "      <td>2190</td>\n",
       "      <td>Scott, Lee and Rodriguez</td>\n",
       "      <td>147</td>\n",
       "    </tr>\n",
       "  </tbody>\n",
       "</table>\n",
       "</div>"
      ],
      "text/plain": [
       "   order_id                  customer  quantity_sum\n",
       "0      2415          Lawrence-Rowland           163\n",
       "1      4565           Stanton-Charles           155\n",
       "2      6324            Watson-Harrell           149\n",
       "3      5900               Estrada LLC           147\n",
       "4      2190  Scott, Lee and Rodriguez           147"
      ]
     },
     "execution_count": 25,
     "metadata": {},
     "output_type": "execute_result"
    }
   ],
   "source": [
    "sql = '''\n",
    "SELECT order_id, customer, SUM(quantity) AS quantity_sum\n",
    "FROM transactions\n",
    "GROUP BY order_id\n",
    "ORDER BY quantity_sum DESC\n",
    "LIMIT 5;\n",
    "'''\n",
    "pd.read_sql_query(sql, con)"
   ]
  },
  {
   "cell_type": "markdown",
   "id": "f3cfc9b6",
   "metadata": {},
   "source": [
    "56) Show the total cost of each transaction. * Hint: The unit_price column is the price of one item. The customer may have purchased multiple. * Hint2: Note that transactions here span multiple rows if different items are purchased."
   ]
  },
  {
   "cell_type": "code",
   "execution_count": 26,
   "id": "563dea6b",
   "metadata": {},
   "outputs": [
    {
     "data": {
      "text/html": [
       "<div>\n",
       "<style scoped>\n",
       "    .dataframe tbody tr th:only-of-type {\n",
       "        vertical-align: middle;\n",
       "    }\n",
       "\n",
       "    .dataframe tbody tr th {\n",
       "        vertical-align: top;\n",
       "    }\n",
       "\n",
       "    .dataframe thead th {\n",
       "        text-align: right;\n",
       "    }\n",
       "</style>\n",
       "<table border=\"1\" class=\"dataframe\">\n",
       "  <thead>\n",
       "    <tr style=\"text-align: right;\">\n",
       "      <th></th>\n",
       "      <th>order_id</th>\n",
       "      <th>customer</th>\n",
       "      <th>total_cost</th>\n",
       "    </tr>\n",
       "  </thead>\n",
       "  <tbody>\n",
       "    <tr>\n",
       "      <th>0</th>\n",
       "      <td>0</td>\n",
       "      <td>Kent, Curtis and Williams</td>\n",
       "      <td>1258.75</td>\n",
       "    </tr>\n",
       "    <tr>\n",
       "      <th>1</th>\n",
       "      <td>1</td>\n",
       "      <td>Matthews and Sons</td>\n",
       "      <td>771.50</td>\n",
       "    </tr>\n",
       "    <tr>\n",
       "      <th>2</th>\n",
       "      <td>2</td>\n",
       "      <td>David Inc</td>\n",
       "      <td>341.50</td>\n",
       "    </tr>\n",
       "    <tr>\n",
       "      <th>3</th>\n",
       "      <td>3</td>\n",
       "      <td>Cooke, Knight and Bishop</td>\n",
       "      <td>83.25</td>\n",
       "    </tr>\n",
       "    <tr>\n",
       "      <th>4</th>\n",
       "      <td>4</td>\n",
       "      <td>Cook Ltd</td>\n",
       "      <td>1251.50</td>\n",
       "    </tr>\n",
       "  </tbody>\n",
       "</table>\n",
       "</div>"
      ],
      "text/plain": [
       "   order_id                   customer  total_cost\n",
       "0         0  Kent, Curtis and Williams     1258.75\n",
       "1         1          Matthews and Sons      771.50\n",
       "2         2                  David Inc      341.50\n",
       "3         3   Cooke, Knight and Bishop       83.25\n",
       "4         4                   Cook Ltd     1251.50"
      ]
     },
     "execution_count": 26,
     "metadata": {},
     "output_type": "execute_result"
    }
   ],
   "source": [
    "sql = '''\n",
    "SELECT order_id, customer, SUM(unit_price * quantity) AS \"total_cost\"\n",
    "FROM transactions\n",
    "GROUP BY order_id, customer\n",
    "LIMIT 5;\n",
    "'''\n",
    "pd.read_sql_query(sql, con)"
   ]
  },
  {
   "cell_type": "markdown",
   "id": "cb2ec517",
   "metadata": {},
   "source": [
    "57) Show the top 5 transactions in terms of total cost."
   ]
  },
  {
   "cell_type": "code",
   "execution_count": 27,
   "id": "6e882ddf",
   "metadata": {},
   "outputs": [
    {
     "data": {
      "text/html": [
       "<div>\n",
       "<style scoped>\n",
       "    .dataframe tbody tr th:only-of-type {\n",
       "        vertical-align: middle;\n",
       "    }\n",
       "\n",
       "    .dataframe tbody tr th {\n",
       "        vertical-align: top;\n",
       "    }\n",
       "\n",
       "    .dataframe thead th {\n",
       "        text-align: right;\n",
       "    }\n",
       "</style>\n",
       "<table border=\"1\" class=\"dataframe\">\n",
       "  <thead>\n",
       "    <tr style=\"text-align: right;\">\n",
       "      <th></th>\n",
       "      <th>order_id</th>\n",
       "      <th>customer</th>\n",
       "      <th>total_cost</th>\n",
       "    </tr>\n",
       "  </thead>\n",
       "  <tbody>\n",
       "    <tr>\n",
       "      <th>0</th>\n",
       "      <td>2190</td>\n",
       "      <td>Scott, Lee and Rodriguez</td>\n",
       "      <td>2369.75</td>\n",
       "    </tr>\n",
       "    <tr>\n",
       "      <th>1</th>\n",
       "      <td>6324</td>\n",
       "      <td>Watson-Harrell</td>\n",
       "      <td>2333.50</td>\n",
       "    </tr>\n",
       "    <tr>\n",
       "      <th>2</th>\n",
       "      <td>3009</td>\n",
       "      <td>Medina-Morse</td>\n",
       "      <td>2317.25</td>\n",
       "    </tr>\n",
       "    <tr>\n",
       "      <th>3</th>\n",
       "      <td>4726</td>\n",
       "      <td>Butler Inc</td>\n",
       "      <td>2300.25</td>\n",
       "    </tr>\n",
       "    <tr>\n",
       "      <th>4</th>\n",
       "      <td>2415</td>\n",
       "      <td>Lawrence-Rowland</td>\n",
       "      <td>2297.75</td>\n",
       "    </tr>\n",
       "  </tbody>\n",
       "</table>\n",
       "</div>"
      ],
      "text/plain": [
       "   order_id                  customer  total_cost\n",
       "0      2190  Scott, Lee and Rodriguez     2369.75\n",
       "1      6324            Watson-Harrell     2333.50\n",
       "2      3009              Medina-Morse     2317.25\n",
       "3      4726                Butler Inc     2300.25\n",
       "4      2415          Lawrence-Rowland     2297.75"
      ]
     },
     "execution_count": 27,
     "metadata": {},
     "output_type": "execute_result"
    }
   ],
   "source": [
    "sql = '''\n",
    "SELECT order_id, customer, SUM(unit_price * quantity) AS \"total_cost\"\n",
    "FROM transactions\n",
    "GROUP BY order_id, customer\n",
    "ORDER BY total_cost DESC\n",
    "LIMIT 5;\n",
    "'''\n",
    "pd.read_sql_query(sql, con)"
   ]
  },
  {
   "cell_type": "markdown",
   "id": "6e6ff83b",
   "metadata": {},
   "source": [
    "58) Show the top 5 customers in terms of total revenue (ie, which customers have we done the most business with in terms of money?)"
   ]
  },
  {
   "cell_type": "code",
   "execution_count": 28,
   "id": "2b951fab",
   "metadata": {},
   "outputs": [
    {
     "data": {
      "text/html": [
       "<div>\n",
       "<style scoped>\n",
       "    .dataframe tbody tr th:only-of-type {\n",
       "        vertical-align: middle;\n",
       "    }\n",
       "\n",
       "    .dataframe tbody tr th {\n",
       "        vertical-align: top;\n",
       "    }\n",
       "\n",
       "    .dataframe thead th {\n",
       "        text-align: right;\n",
       "    }\n",
       "</style>\n",
       "<table border=\"1\" class=\"dataframe\">\n",
       "  <thead>\n",
       "    <tr style=\"text-align: right;\">\n",
       "      <th></th>\n",
       "      <th>customer</th>\n",
       "      <th>total_spent</th>\n",
       "    </tr>\n",
       "  </thead>\n",
       "  <tbody>\n",
       "    <tr>\n",
       "      <th>0</th>\n",
       "      <td>Turner, Horn and Adams</td>\n",
       "      <td>89645.25</td>\n",
       "    </tr>\n",
       "    <tr>\n",
       "      <th>1</th>\n",
       "      <td>Reeves Inc</td>\n",
       "      <td>85485.00</td>\n",
       "    </tr>\n",
       "    <tr>\n",
       "      <th>2</th>\n",
       "      <td>Lara-Robinson</td>\n",
       "      <td>84383.00</td>\n",
       "    </tr>\n",
       "    <tr>\n",
       "      <th>3</th>\n",
       "      <td>Evans-Parks</td>\n",
       "      <td>83294.25</td>\n",
       "    </tr>\n",
       "    <tr>\n",
       "      <th>4</th>\n",
       "      <td>Watson-Harrell</td>\n",
       "      <td>81818.25</td>\n",
       "    </tr>\n",
       "  </tbody>\n",
       "</table>\n",
       "</div>"
      ],
      "text/plain": [
       "                 customer  total_spent\n",
       "0  Turner, Horn and Adams     89645.25\n",
       "1              Reeves Inc     85485.00\n",
       "2           Lara-Robinson     84383.00\n",
       "3             Evans-Parks     83294.25\n",
       "4          Watson-Harrell     81818.25"
      ]
     },
     "execution_count": 28,
     "metadata": {},
     "output_type": "execute_result"
    }
   ],
   "source": [
    "sql = '''\n",
    "SELECT customer, SUM(quantity * unit_price) AS \"total_spent\"\n",
    "FROM transactions \n",
    "GROUP BY customer\n",
    "ORDER BY total_spent DESC\n",
    "LIMIT 5;\n",
    "'''\n",
    "pd.read_sql_query(sql, con)"
   ]
  },
  {
   "cell_type": "markdown",
   "id": "23f355a6",
   "metadata": {},
   "source": [
    "59) Show the top 5 employees in terms of revenue generated (ie, which employees made the most in sales?)"
   ]
  },
  {
   "cell_type": "code",
   "execution_count": 29,
   "id": "6e5f17df",
   "metadata": {},
   "outputs": [
    {
     "data": {
      "text/html": [
       "<div>\n",
       "<style scoped>\n",
       "    .dataframe tbody tr th:only-of-type {\n",
       "        vertical-align: middle;\n",
       "    }\n",
       "\n",
       "    .dataframe tbody tr th {\n",
       "        vertical-align: top;\n",
       "    }\n",
       "\n",
       "    .dataframe thead th {\n",
       "        text-align: right;\n",
       "    }\n",
       "</style>\n",
       "<table border=\"1\" class=\"dataframe\">\n",
       "  <thead>\n",
       "    <tr style=\"text-align: right;\">\n",
       "      <th></th>\n",
       "      <th>fullname</th>\n",
       "      <th>total_sales</th>\n",
       "      <th>salary</th>\n",
       "    </tr>\n",
       "  </thead>\n",
       "  <tbody>\n",
       "    <tr>\n",
       "      <th>0</th>\n",
       "      <td>Anna, Fischer</td>\n",
       "      <td>124372.25</td>\n",
       "      <td>73832</td>\n",
       "    </tr>\n",
       "    <tr>\n",
       "      <th>1</th>\n",
       "      <td>Brittany, Maynard</td>\n",
       "      <td>116507.50</td>\n",
       "      <td>69257</td>\n",
       "    </tr>\n",
       "    <tr>\n",
       "      <th>2</th>\n",
       "      <td>Julian, Martinez</td>\n",
       "      <td>112284.25</td>\n",
       "      <td>34597</td>\n",
       "    </tr>\n",
       "    <tr>\n",
       "      <th>3</th>\n",
       "      <td>Miguel, Williams</td>\n",
       "      <td>111021.00</td>\n",
       "      <td>31584</td>\n",
       "    </tr>\n",
       "    <tr>\n",
       "      <th>4</th>\n",
       "      <td>Michael, West</td>\n",
       "      <td>110207.00</td>\n",
       "      <td>32781</td>\n",
       "    </tr>\n",
       "  </tbody>\n",
       "</table>\n",
       "</div>"
      ],
      "text/plain": [
       "            fullname  total_sales  salary\n",
       "0      Anna, Fischer    124372.25   73832\n",
       "1  Brittany, Maynard    116507.50   69257\n",
       "2   Julian, Martinez    112284.25   34597\n",
       "3   Miguel, Williams    111021.00   31584\n",
       "4      Michael, West    110207.00   32781"
      ]
     },
     "execution_count": 29,
     "metadata": {},
     "output_type": "execute_result"
    }
   ],
   "source": [
    "sql = '''\n",
    "SELECT e.firstname ||', ' ||e.lastname AS fullname, SUM(t.quantity * t.unit_price) AS total_sales, e.salary\n",
    "FROM employees e\n",
    "INNER JOIN transactions t ON e.ID = t.employee_id\n",
    "GROUP BY fullname, e.salary\n",
    "ORDER BY total_sales DESC\n",
    "LIMIT 5;\n",
    "'''\n",
    "pd.read_sql_query(sql, con)"
   ]
  },
  {
   "cell_type": "markdown",
   "id": "fa26a537",
   "metadata": {},
   "source": [
    "60) Which customer worked with the largest number of employees? * Hint: This is a tough one! Check out the DISTINCT keyword. "
   ]
  },
  {
   "cell_type": "code",
   "execution_count": 30,
   "id": "6911ded5",
   "metadata": {},
   "outputs": [
    {
     "data": {
      "text/html": [
       "<div>\n",
       "<style scoped>\n",
       "    .dataframe tbody tr th:only-of-type {\n",
       "        vertical-align: middle;\n",
       "    }\n",
       "\n",
       "    .dataframe tbody tr th {\n",
       "        vertical-align: top;\n",
       "    }\n",
       "\n",
       "    .dataframe thead th {\n",
       "        text-align: right;\n",
       "    }\n",
       "</style>\n",
       "<table border=\"1\" class=\"dataframe\">\n",
       "  <thead>\n",
       "    <tr style=\"text-align: right;\">\n",
       "      <th></th>\n",
       "      <th>num_worked_with</th>\n",
       "      <th>customer</th>\n",
       "    </tr>\n",
       "  </thead>\n",
       "  <tbody>\n",
       "    <tr>\n",
       "      <th>0</th>\n",
       "      <td>627</td>\n",
       "      <td>Turner, Horn and Adams</td>\n",
       "    </tr>\n",
       "    <tr>\n",
       "      <th>1</th>\n",
       "      <td>625</td>\n",
       "      <td>Reeves Inc</td>\n",
       "    </tr>\n",
       "    <tr>\n",
       "      <th>2</th>\n",
       "      <td>606</td>\n",
       "      <td>Watson-Harrell</td>\n",
       "    </tr>\n",
       "    <tr>\n",
       "      <th>3</th>\n",
       "      <td>604</td>\n",
       "      <td>Evans-Parks</td>\n",
       "    </tr>\n",
       "    <tr>\n",
       "      <th>4</th>\n",
       "      <td>601</td>\n",
       "      <td>Lara-Robinson</td>\n",
       "    </tr>\n",
       "  </tbody>\n",
       "</table>\n",
       "</div>"
      ],
      "text/plain": [
       "   num_worked_with                customer\n",
       "0              627  Turner, Horn and Adams\n",
       "1              625              Reeves Inc\n",
       "2              606          Watson-Harrell\n",
       "3              604             Evans-Parks\n",
       "4              601           Lara-Robinson"
      ]
     },
     "execution_count": 30,
     "metadata": {},
     "output_type": "execute_result"
    }
   ],
   "source": [
    "sql = '''\n",
    "SELECT DISTINCT count(employee_id) AS \"num_worked_with\", customer\n",
    "FROM transactions \n",
    "GROUP BY customer\n",
    "ORDER BY num_worked_with DESC\n",
    "LIMIT 5;\n",
    "'''\n",
    "pd.read_sql_query(sql, con)"
   ]
  },
  {
   "cell_type": "markdown",
   "id": "bd1be212",
   "metadata": {},
   "source": [
    "61) Show all customers who've done more than $80,000 worth of business with us."
   ]
  },
  {
   "cell_type": "code",
   "execution_count": 31,
   "id": "5d811afd",
   "metadata": {},
   "outputs": [
    {
     "data": {
      "text/html": [
       "<div>\n",
       "<style scoped>\n",
       "    .dataframe tbody tr th:only-of-type {\n",
       "        vertical-align: middle;\n",
       "    }\n",
       "\n",
       "    .dataframe tbody tr th {\n",
       "        vertical-align: top;\n",
       "    }\n",
       "\n",
       "    .dataframe thead th {\n",
       "        text-align: right;\n",
       "    }\n",
       "</style>\n",
       "<table border=\"1\" class=\"dataframe\">\n",
       "  <thead>\n",
       "    <tr style=\"text-align: right;\">\n",
       "      <th></th>\n",
       "      <th>customer</th>\n",
       "      <th>total_spent</th>\n",
       "    </tr>\n",
       "  </thead>\n",
       "  <tbody>\n",
       "    <tr>\n",
       "      <th>0</th>\n",
       "      <td>Turner, Horn and Adams</td>\n",
       "      <td>89645.25</td>\n",
       "    </tr>\n",
       "    <tr>\n",
       "      <th>1</th>\n",
       "      <td>Reeves Inc</td>\n",
       "      <td>85485.00</td>\n",
       "    </tr>\n",
       "    <tr>\n",
       "      <th>2</th>\n",
       "      <td>Lara-Robinson</td>\n",
       "      <td>84383.00</td>\n",
       "    </tr>\n",
       "    <tr>\n",
       "      <th>3</th>\n",
       "      <td>Evans-Parks</td>\n",
       "      <td>83294.25</td>\n",
       "    </tr>\n",
       "    <tr>\n",
       "      <th>4</th>\n",
       "      <td>Watson-Harrell</td>\n",
       "      <td>81818.25</td>\n",
       "    </tr>\n",
       "    <tr>\n",
       "      <th>5</th>\n",
       "      <td>Ellis-Miller</td>\n",
       "      <td>81595.00</td>\n",
       "    </tr>\n",
       "    <tr>\n",
       "      <th>6</th>\n",
       "      <td>Hart LLC</td>\n",
       "      <td>80331.50</td>\n",
       "    </tr>\n",
       "    <tr>\n",
       "      <th>7</th>\n",
       "      <td>Williams-Jones</td>\n",
       "      <td>80152.25</td>\n",
       "    </tr>\n",
       "  </tbody>\n",
       "</table>\n",
       "</div>"
      ],
      "text/plain": [
       "                 customer  total_spent\n",
       "0  Turner, Horn and Adams     89645.25\n",
       "1              Reeves Inc     85485.00\n",
       "2           Lara-Robinson     84383.00\n",
       "3             Evans-Parks     83294.25\n",
       "4          Watson-Harrell     81818.25\n",
       "5            Ellis-Miller     81595.00\n",
       "6                Hart LLC     80331.50\n",
       "7          Williams-Jones     80152.25"
      ]
     },
     "execution_count": 31,
     "metadata": {},
     "output_type": "execute_result"
    }
   ],
   "source": [
    "sql = '''\n",
    "SELECT customer, SUM(quantity * unit_price) AS \"total_spent\"\n",
    "FROM transactions \n",
    "GROUP BY customer\n",
    "ORDER BY total_spent DESC\n",
    "LIMIT 8;\n",
    "'''\n",
    "pd.read_sql_query(sql, con)"
   ]
  }
 ],
 "metadata": {
  "kernelspec": {
   "display_name": "Python 3 (ipykernel)",
   "language": "python",
   "name": "python3"
  },
  "language_info": {
   "codemirror_mode": {
    "name": "ipython",
    "version": 3
   },
   "file_extension": ".py",
   "mimetype": "text/x-python",
   "name": "python",
   "nbconvert_exporter": "python",
   "pygments_lexer": "ipython3",
   "version": "3.9.13"
  }
 },
 "nbformat": 4,
 "nbformat_minor": 5
}
